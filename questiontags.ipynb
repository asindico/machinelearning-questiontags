{
 "cells": [
  {
   "cell_type": "markdown",
   "metadata": {
    "collapsed": true
   },
   "source": [
    "# Questions Automatic Tagging"
   ]
  },
  {
   "cell_type": "markdown",
   "metadata": {},
   "source": [
    "This is the Capstone Project of my Udacity Machine Learning Nano Degree.\n",
    "\n",
    "In this capstone project I will focus on one specific kind of problem among the many open problems in NLP: Text Classification. The task is to state what is the topic, among several availables, of a content expressed in natural language. To this end I will rely on the questions shared by Stack Exchange , take three classes of questions (i.e. cooking, robotics, biology) and try to create a model capable of stating to what of these three classes an unknown question belongs. After that I will try to create a model that for the questions of a given topic tries to predict what are the tags that best describe it. "
   ]
  },
  {
   "cell_type": "code",
   "execution_count": 100,
   "metadata": {
    "collapsed": true
   },
   "outputs": [],
   "source": [
    "import pandas as pd\n",
    "from bs4 import BeautifulSoup\n",
    "import nltk \n",
    "from nltk import word_tokenize\n",
    "from nltk.corpus import stopwords\n",
    "import re\n",
    "import string\n",
    "import matplotlib.pyplot as plt\n",
    "from collections import Counter\n",
    "import numpy as np\n",
    "import pandas as pd\n",
    "from sklearn.feature_extraction.text import CountVectorizer\n",
    "from sklearn.model_selection import train_test_split\n",
    "from sklearn.preprocessing import normalize\n",
    "from sklearn.metrics import f1_score\n",
    "from sklearn.metrics import accuracy_score\n",
    "from sklearn.naive_bayes import GaussianNB\n"
   ]
  },
  {
   "cell_type": "markdown",
   "metadata": {},
   "source": [
    "### Data Analysis"
   ]
  },
  {
   "cell_type": "code",
   "execution_count": 5,
   "metadata": {
    "collapsed": false
   },
   "outputs": [],
   "source": [
    "dataframes = {\n",
    "    \"cooking\": pd.read_csv(\"cooking.csv\"),\n",
    "    \"biology\": pd.read_csv(\"biology.csv\"),\n",
    "    \"robotics\": pd.read_csv(\"robotics.csv\")\n",
    "}"
   ]
  },
  {
   "cell_type": "code",
   "execution_count": 6,
   "metadata": {
    "collapsed": false
   },
   "outputs": [],
   "source": [
    "dataframes['cooking']['class'] = 'cooking'\n",
    "dataframes['biology']['class'] = 'biology'\n",
    "dataframes['robotics']['class'] = 'robotics'\n",
    "\n",
    "allquestions = pd.concat([dataframes['cooking'][:5000],dataframes['robotics'],dataframes['biology'][:5000]],\n",
    "                        ignore_index=True)\n",
    "#allquestions = allquestions.sample(frac=1)"
   ]
  },
  {
   "cell_type": "code",
   "execution_count": 7,
   "metadata": {
    "collapsed": false
   },
   "outputs": [
    {
     "name": "stdout",
     "output_type": "stream",
     "text": [
      "id                                                         2\n",
      "title                    How should I cook bacon in an oven?\n",
      "content    <p>I've heard of people cooking bacon in an ov...\n",
      "tags                                 oven cooking-time bacon\n",
      "class                                                cooking\n",
      "Name: 1, dtype: object\n",
      "id                                                         2\n",
      "title      How can I modify a low cost hobby servo to run...\n",
      "content    <p>I've got some hobby servos (<a href=\"http:/...\n",
      "tags                                         control rcservo\n",
      "class                                               robotics\n",
      "Name: 1, dtype: object\n",
      "id                                                         2\n",
      "title      How is RNAse contamination in RNA based experi...\n",
      "content    <p>Does anyone have any suggestions to prevent...\n",
      "tags                                        rna biochemistry\n",
      "class                                                biology\n",
      "Name: 1, dtype: object\n"
     ]
    }
   ],
   "source": [
    "print(dataframes[\"cooking\"].iloc[1])\n",
    "print(dataframes[\"robotics\"].iloc[1])\n",
    "print(dataframes[\"biology\"].iloc[1])"
   ]
  },
  {
   "cell_type": "code",
   "execution_count": 8,
   "metadata": {
    "collapsed": false
   },
   "outputs": [
    {
     "name": "stdout",
     "output_type": "stream",
     "text": [
      "(15404, 5)\n",
      "['baking', 'food-safety', 'substitutions', 'equipment', 'bread']\n",
      "[1444, 1211, 920, 816, 687]\n"
     ]
    },
    {
     "data": {
      "image/png": "[encoded data removed]",
      "text/plain": [
       "<matplotlib.figure.Figure at 0x10af60050>"
      ]
     },
     "metadata": {},
     "output_type": "display_data"
    },
    {
     "name": "stdout",
     "output_type": "stream",
     "text": [
      "736\n"
     ]
    }
   ],
   "source": [
    "print(dataframes[\"cooking\"].shape)\n",
    "ctags = [ti for ta in dataframes[\"cooking\"].tags for ti in ta.split() ]\n",
    "cseries = pd.Series(ctags)\n",
    "cus = cseries.unique()\n",
    "counter = Counter(cseries)\n",
    "counter = counter.most_common()\n",
    "keys = [c[0] for c in counter][:50]\n",
    "counts = [c[1] for c in counter][:50]\n",
    "print(keys[:5])\n",
    "print(counts[:5])\n",
    "plt.bar(range(len(keys)), counts, align='center')\n",
    "plt.show()\n",
    "print(cus.size)"
   ]
  },
  {
   "cell_type": "code",
   "execution_count": 9,
   "metadata": {
    "collapsed": false
   },
   "outputs": [
    {
     "name": "stdout",
     "output_type": "stream",
     "text": [
      "(2771, 5)\n",
      "['quadcopter', 'mobile-robot', 'arduino', 'control', 'motor']\n",
      "[306, 295, 282, 255, 239]\n"
     ]
    },
    {
     "data": {
      "image/png": "[encoded data removed]",
      "text/plain": [
       "<matplotlib.figure.Figure at 0x1042cc450>"
      ]
     },
     "metadata": {},
     "output_type": "display_data"
    },
    {
     "name": "stdout",
     "output_type": "stream",
     "text": [
      "231\n"
     ]
    }
   ],
   "source": [
    "print(dataframes[\"robotics\"].shape)\n",
    "rtags = [ti for ta in dataframes[\"robotics\"].tags for ti in ta.split() ]\n",
    "rseries = pd.Series(rtags)\n",
    "counter = Counter(rseries)\n",
    "counter = counter.most_common()\n",
    "keys = [c[0] for c in counter][:50]\n",
    "counts = [c[1] for c in counter][:50]\n",
    "print(keys[:5])\n",
    "print(counts[:5])\n",
    "rdf = pd.DataFrame(counter)\n",
    "plt.bar(range(len(keys)), counts, align='center')\n",
    "plt.show()\n",
    "rus = rseries.unique()\n",
    "print(rus.size)"
   ]
  },
  {
   "cell_type": "code",
   "execution_count": 10,
   "metadata": {
    "collapsed": false
   },
   "outputs": [
    {
     "name": "stdout",
     "output_type": "stream",
     "text": [
      "(13196, 5)\n",
      "['human-biology', 'genetics', 'evolution', 'biochemistry', 'molecular-biology']\n",
      "[1448, 1229, 1159, 984, 863]\n"
     ]
    },
    {
     "data": {
      "image/png": "[encoded data removed]",
      "text/plain": [
       "<matplotlib.figure.Figure at 0x1042a0890>"
      ]
     },
     "metadata": {},
     "output_type": "display_data"
    },
    {
     "name": "stdout",
     "output_type": "stream",
     "text": [
      "678\n"
     ]
    }
   ],
   "source": [
    "print(dataframes[\"biology\"].shape)\n",
    "btags = [ti for ta in dataframes[\"biology\"].tags for ti in ta.split() ]\n",
    "bseries = pd.Series(btags)\n",
    "counter = Counter(bseries)\n",
    "counter = counter.most_common()\n",
    "keys = [c[0] for c in counter][:50]\n",
    "counts = [c[1] for c in counter][:50]\n",
    "print(keys[:5])\n",
    "print(counts[:5])\n",
    "plt.bar(range(len(keys)), counts, align='center')\n",
    "plt.show()\n",
    "bus = bseries.unique()\n",
    "print(bus.size)"
   ]
  },
  {
   "cell_type": "markdown",
   "metadata": {},
   "source": [
    "### Words Embedding"
   ]
  },
  {
   "cell_type": "markdown",
   "metadata": {},
   "source": [
    "The first thing we have to do is transforming the input text into something that is machine readble which basically means numbers. \n",
    "We have to drop all the elemnts that do not provide relevant information. Since questions titles may contains html tags and uris we have to remove them. "
   ]
  },
  {
   "cell_type": "markdown",
   "metadata": {},
   "source": [
    "#### Preprocessing"
   ]
  },
  {
   "cell_type": "code",
   "execution_count": 56,
   "metadata": {
    "collapsed": true
   },
   "outputs": [],
   "source": [
    "uri_re = r'(?i)\\b((?:https?://|www\\d{0,3}[.]|[a-z0-9.\\-]+[.][a-z]{2,4}/)(?:[^\\s()<>]+|\\(([^\\s()<>]+|(\\([^\\s()<>]+\\)))*\\))+(?:\\(([^\\s()<>]+|(\\([^\\s()<>]+\\)))*\\)|[^\\s`!()\\[\\]{};:\\'\".,<>?«»“”‘’]))'\n",
    "def stripTagsAndUris(x):\n",
    "    if x:\n",
    "        soup = BeautifulSoup(x, \"html.parser\")\n",
    "        if soup.code:\n",
    "            soup.code.decompose()\n",
    "        text =  soup.get_text()\n",
    "        return re.sub(uri_re, \"\", text)\n",
    "    else:\n",
    "        return \"\""
   ]
  },
  {
   "cell_type": "code",
   "execution_count": 57,
   "metadata": {
    "collapsed": true
   },
   "outputs": [],
   "source": [
    "def removePunctuation(x):\n",
    "    x = x.lower()\n",
    "    x = re.sub(r'[^\\x00-\\x7f]',r' ',x)\n",
    "    return re.sub(\"[\"+string.punctuation+\"]\", \" \", x)"
   ]
  },
  {
   "cell_type": "code",
   "execution_count": 58,
   "metadata": {
    "collapsed": true
   },
   "outputs": [],
   "source": [
    "stops = set(stopwords.words(\"english\"))\n",
    "def removeStopwords(x):\n",
    "    filtered_words = [word for word in x.split() if word not in stops]\n",
    "    return \" \".join(filtered_words)"
   ]
  },
  {
   "cell_type": "code",
   "execution_count": 59,
   "metadata": {
    "collapsed": true
   },
   "outputs": [],
   "source": [
    "def textprep(_df):\n",
    "    for df in _df.values():\n",
    "        df[\"title\"] = df[\"title\"].map(removePunctuation)\n",
    "        df[\"title\"] = df[\"title\"].map(removeStopwords)\n",
    "        df[\"content\"] = df[\"content\"].map(removePunctuation)\n",
    "        df[\"content\"] = df[\"content\"].map(removeStopwords)"
   ]
  },
  {
   "cell_type": "code",
   "execution_count": 60,
   "metadata": {
    "collapsed": false
   },
   "outputs": [],
   "source": [
    "textprep(dataframes)"
   ]
  },
  {
   "cell_type": "code",
   "execution_count": 210,
   "metadata": {
    "collapsed": false
   },
   "outputs": [
    {
     "name": "stdout",
     "output_type": "stream",
     "text": [
      "id                                           2\n",
      "title                          cook bacon oven\n",
      "content    how should i cook bacon in an oven \n",
      "tags                   oven cooking-time bacon\n",
      "class                                  cooking\n",
      "Name: 1, dtype: object\n"
     ]
    }
   ],
   "source": [
    "print(dataframes[\"cooking\"].iloc[1])"
   ]
  },
  {
   "cell_type": "markdown",
   "metadata": {},
   "source": [
    "#### Bag of Words Model"
   ]
  },
  {
   "cell_type": "markdown",
   "metadata": {},
   "source": [
    "The easiest approach is the so called Bag-of-words model where the text is represented by the set of words contained in it, loosing their order and thus disregarding the grammar or the syntax. Each word is paired with an integer representing the occurrencies of that word in the represented text. One of the weak aspect of this approach is that longer text may present more occurrencies of a given word, with respect to a shorter text, not because of its relevance but just because the text is longer. \n",
    "\n",
    "Since we rely in titles, which are short by construction, I think this aspect will not affect our task.\n",
    "\n",
    "We rely on scikit learn CountVectorizer to transform words into numbers. We use a custom token pattern in order to catch words containing the '-' character like 'cooking-time'. "
   ]
  },
  {
   "cell_type": "code",
   "execution_count": 20,
   "metadata": {
    "collapsed": false
   },
   "outputs": [
    {
     "name": "stdout",
     "output_type": "stream",
     "text": [
      "vectorizing cooking titles\n",
      "vectorizing robotics titles\n",
      "vectorizing biology titles\n",
      "vectorizing cooking tags\n",
      "vectorizing robotics tags\n",
      "vectorizing biology tags\n",
      "vectorizing all titles\n"
     ]
    }
   ],
   "source": [
    "c_title_vectorizer = CountVectorizer(stop_words='english',token_pattern=r'\\b\\w\\w+-?\\w+\\b')\n",
    "c_tag_vectorizer   = CountVectorizer(stop_words='english',token_pattern=r'\\b\\w\\w+-?\\w+\\b')\n",
    "r_title_vectorizer = CountVectorizer(stop_words='english',token_pattern=r'\\b\\w\\w+-?\\w+\\b')\n",
    "r_tag_vectorizer   = CountVectorizer(stop_words='english',token_pattern=r'\\b\\w\\w+-?\\w+\\b')\n",
    "b_title_vectorizer = CountVectorizer(stop_words='english',token_pattern=r'\\b\\w\\w+-?\\w+\\b')\n",
    "b_tag_vectorizer   = CountVectorizer(stop_words='english',token_pattern=r'\\b\\w\\w+-?\\w+\\b')\n",
    "\n",
    "a_title_vectorizer = CountVectorizer(stop_words='english',token_pattern=r'\\b\\w\\w+-?\\w+\\b')\n",
    "a_tag_vectorizer   = CountVectorizer(stop_words='english',token_pattern=r'\\b\\w\\w+-?\\w+\\b')\n",
    "\n",
    "c_titles = dataframes['cooking']['title']\n",
    "r_titles = dataframes['robotics']['title']\n",
    "b_titles = dataframes['biology']['title']\n",
    "\n",
    "c_tags = dataframes['cooking']['tags']\n",
    "r_tags = dataframes['robotics']['tags']\n",
    "b_tags = dataframes['biology']['tags']\n",
    "\n",
    "a_titles  = allquestions['title']\n",
    "a_classes = allquestions['class']\n",
    "\n",
    "print \"vectorizing cooking titles\"\n",
    "c_X = c_title_vectorizer.fit_transform(c_titles)\n",
    "print \"vectorizing robotics titles\"\n",
    "r_X = r_title_vectorizer.fit_transform(r_titles)\n",
    "print \"vectorizing biology titles\"\n",
    "b_X = b_title_vectorizer.fit_transform(b_titles)\n",
    "\n",
    "print \"vectorizing cooking tags\"\n",
    "c_Y = c_tag_vectorizer.fit_transform(c_tags)\n",
    "print \"vectorizing robotics tags\"\n",
    "r_Y = r_tag_vectorizer.fit_transform(r_tags)\n",
    "print \"vectorizing biology tags\"\n",
    "b_Y = b_tag_vectorizer.fit_transform(b_tags)\n",
    "\n",
    "print \"vectorizing all titles\"\n",
    "a_X = a_title_vectorizer.fit_transform(a_titles)\n",
    "\n",
    "\n"
   ]
  },
  {
   "cell_type": "code",
   "execution_count": 248,
   "metadata": {
    "collapsed": false
   },
   "outputs": [
    {
     "name": "stdout",
     "output_type": "stream",
     "text": [
      "  (0, 2573)\t1\n",
      "  (0, 1974)\t1\n",
      "  (0, 1990)\t1\n",
      "  (0, 1937)\t1\n"
     ]
    }
   ],
   "source": [
    "print(a_X[0])"
   ]
  },
  {
   "cell_type": "markdown",
   "metadata": {},
   "source": [
    "#### n-grams model"
   ]
  },
  {
   "cell_type": "markdown",
   "metadata": {},
   "source": [
    "A collection of single words like the bag-of-words fail capture phrases and expressions of multiple words. A more valuable approch is to consider single words along with sequences of adjcent words called n-grams. In this project we use bi-grams as a possible input model. Fortunately the CountVectorizer class can be configured to extract any range of ngram with the ngram_range(min,max) option."
   ]
  },
  {
   "cell_type": "code",
   "execution_count": 213,
   "metadata": {
    "collapsed": false
   },
   "outputs": [
    {
     "name": "stdout",
     "output_type": "stream",
     "text": [
      "vectorizing all titles with 3-grams\n"
     ]
    }
   ],
   "source": [
    "ang_title_vectorizer = CountVectorizer(stop_words='english',ngram_range=(1, 2),\n",
    "                                       token_pattern=r'\\b\\w\\w+-?\\w+\\b')\n",
    "print \"vectorizing all titles with 2-grams\"\n",
    "a_X_2g = ang_title_vectorizer.fit_transform(a_titles)"
   ]
  },
  {
   "cell_type": "code",
   "execution_count": 214,
   "metadata": {
    "collapsed": false
   },
   "outputs": [
    {
     "name": "stdout",
     "output_type": "stream",
     "text": [
      "  (0, 8358)\t1\n",
      "  (0, 8419)\t1\n",
      "  (0, 8143)\t1\n",
      "  (0, 11082)\t1\n",
      "  (0, 8355)\t1\n",
      "  (0, 8405)\t1\n",
      "  (0, 8141)\t1\n"
     ]
    }
   ],
   "source": [
    "print(a_X_2g[0])"
   ]
  },
  {
   "cell_type": "markdown",
   "metadata": {},
   "source": [
    "#### Glove"
   ]
  },
  {
   "cell_type": "markdown",
   "metadata": {},
   "source": [
    "A more sophisticated approach is to rely on vector space representations of words. Basically the idea is to exploit a previously created lookup table in which, for each word of our vocabulary, a vector of float valus corresponds. Their interesting property is that two words with similar meaning have similar vectors. These vectors are generally created automatically with a separated machine learning approach on big corpus of texts. \n",
    "In this project we rely on an already exsiting vector space called Glove.\n",
    "\n",
    "https://nlp.stanford.edu/pubs/glove.pdf\n"
   ]
  },
  {
   "cell_type": "markdown",
   "metadata": {},
   "source": [
    "https://nlp.stanford.edu/projects/glove/"
   ]
  },
  {
   "cell_type": "code",
   "execution_count": 84,
   "metadata": {
    "collapsed": false
   },
   "outputs": [],
   "source": [
    "w2v = {}\n",
    "with open(\"glove.6B.50d.txt\", \"rb\") as lines:\n",
    "    w2v = {line.split()[0]: np.array(map(float, line.split()[1:]))\n",
    "           for line in lines}"
   ]
  },
  {
   "cell_type": "markdown",
   "metadata": {},
   "source": [
    "Here follows an example of what the pre-trained data can be used to retrieve vectors of values for each single word."
   ]
  },
  {
   "cell_type": "code",
   "execution_count": 85,
   "metadata": {
    "collapsed": false
   },
   "outputs": [
    {
     "name": "stdout",
     "output_type": "stream",
     "text": [
      "[-0.68163   1.1578   -0.47827   0.41421  -0.53186   0.63827  -0.90381\n",
      "  0.50795   0.057398 -0.29163   1.1411   -0.079702  0.19951   1.1925\n",
      "  0.52281   0.78633   0.78555   0.32624  -1.5504   -1.0191    0.35532\n",
      " -0.38875   0.92789   0.24325  -0.43162  -0.54939  -0.52209   1.0721\n",
      "  0.99558  -0.38605   2.2673    0.41067  -0.08973   0.29741  -0.18678\n",
      "  0.44329  -0.42243   0.80558   1.1306    0.14038  -0.089723  0.1341\n",
      "  0.47948  -0.12774   0.024234  0.051782  0.44778  -0.47974  -0.62491\n",
      " -0.90005 ]\n"
     ]
    }
   ],
   "source": [
    "keys= w2v.keys()\n",
    "print (w2v['ice'])"
   ]
  },
  {
   "cell_type": "code",
   "execution_count": 86,
   "metadata": {
    "collapsed": false
   },
   "outputs": [],
   "source": [
    "a_Xe = []\n",
    "for title in a_titles:\n",
    "    sentence = []\n",
    "    for word in title.split():\n",
    "        if word in w2v:\n",
    "            wv = w2v[word]\n",
    "            sentence.append(wv)\n",
    "    words = [w for s in sentence for w in s]\n",
    "    a_Xe.append(words)"
   ]
  },
  {
   "cell_type": "code",
   "execution_count": 87,
   "metadata": {
    "collapsed": false
   },
   "outputs": [
    {
     "name": "stdout",
     "output_type": "stream",
     "text": [
      "1200\n"
     ]
    }
   ],
   "source": [
    "maxdim = 0\n",
    "for s in a_Xe:\n",
    "    if len(s)>maxdim:\n",
    "        maxdim = len(s)\n",
    "print maxdim"
   ]
  },
  {
   "cell_type": "code",
   "execution_count": 88,
   "metadata": {
    "collapsed": false
   },
   "outputs": [],
   "source": [
    "sentences =[]\n",
    "for sent in a_Xe:\n",
    "    padd = [0 for _ in range (maxdim - len(sent))]\n",
    "    padd = np.asarray(padd)\n",
    "    paddedsent = np.concatenate((sent,padd),axis=0)\n",
    "    sentences.append(paddedsent)\n",
    "a_Xe = sentences"
   ]
  },
  {
   "cell_type": "code",
   "execution_count": 89,
   "metadata": {
    "collapsed": false
   },
   "outputs": [
    {
     "name": "stdout",
     "output_type": "stream",
     "text": [
      "[ 0.35145   -0.24155    0.0054776 ...,  0.         0.         0.       ]\n"
     ]
    }
   ],
   "source": [
    "print a_Xe[1]"
   ]
  },
  {
   "cell_type": "markdown",
   "metadata": {},
   "source": [
    "# 1st Problem: Questions Classification"
   ]
  },
  {
   "cell_type": "markdown",
   "metadata": {},
   "source": [
    "In this first problem I will try to create a model capable of stating, given an unknown question, to what class it belongs. I will try Naive Bayes and Random Forest on input data modeled through Bag of Words, n-grams (with n = 2) and word vectors (Glove). In the third case I will also try to train a Convolutional Neural Network. \n",
    "\n",
    "I will compare the obtained 7 models through the F1score metric."
   ]
  },
  {
   "cell_type": "markdown",
   "metadata": {},
   "source": [
    "### Using Bag of words"
   ]
  },
  {
   "cell_type": "code",
   "execution_count": 94,
   "metadata": {
    "collapsed": false
   },
   "outputs": [
    {
     "name": "stdout",
     "output_type": "stream",
     "text": [
      "(12771, 12661)\n"
     ]
    }
   ],
   "source": [
    "print a_X.shape"
   ]
  },
  {
   "cell_type": "code",
   "execution_count": 95,
   "metadata": {
    "collapsed": false
   },
   "outputs": [],
   "source": [
    "X_train, X_test, y_train, y_test = train_test_split(a_X.toarray(), a_classes, test_size=0.3, random_state=42)"
   ]
  },
  {
   "cell_type": "markdown",
   "metadata": {},
   "source": [
    "#### Naive Bayes Benchmark Model"
   ]
  },
  {
   "cell_type": "code",
   "execution_count": 96,
   "metadata": {
    "collapsed": false
   },
   "outputs": [],
   "source": [
    "gnb = GaussianNB()\n",
    "y_pred = gnb.fit(X_train, y_train).predict(X_test)"
   ]
  },
  {
   "cell_type": "code",
   "execution_count": 97,
   "metadata": {
    "collapsed": false
   },
   "outputs": [
    {
     "name": "stdout",
     "output_type": "stream",
     "text": [
      "biology\n",
      "biology\n"
     ]
    }
   ],
   "source": [
    "idx = 351\n",
    "print np.array(y_test)[idx]\n",
    "print y_pred[idx]"
   ]
  },
  {
   "cell_type": "code",
   "execution_count": 98,
   "metadata": {
    "collapsed": false
   },
   "outputs": [
    {
     "name": "stdout",
     "output_type": "stream",
     "text": [
      "0.887763885977\n"
     ]
    }
   ],
   "source": [
    "fs1_1 = f1_score(np.array(y_test), y_pred, average='macro') \n",
    "print fs1_1"
   ]
  },
  {
   "cell_type": "markdown",
   "metadata": {},
   "source": [
    "#### Random Forest"
   ]
  },
  {
   "cell_type": "code",
   "execution_count": 99,
   "metadata": {
    "collapsed": true
   },
   "outputs": [],
   "source": [
    "from sklearn.ensemble import RandomForestClassifier\n",
    "clf = RandomForestClassifier(n_estimators=20,criterion='entropy')\n",
    "y_pred = clf.fit(X_train, y_train).predict(X_test)"
   ]
  },
  {
   "cell_type": "code",
   "execution_count": 100,
   "metadata": {
    "collapsed": false
   },
   "outputs": [
    {
     "name": "stdout",
     "output_type": "stream",
     "text": [
      "0.877509953024\n"
     ]
    }
   ],
   "source": [
    "fs1_2 = f1_score(np.array(y_test), y_pred, average='macro') \n",
    "print fs1_2"
   ]
  },
  {
   "cell_type": "markdown",
   "metadata": {},
   "source": [
    "### Using 2-Grams"
   ]
  },
  {
   "cell_type": "code",
   "execution_count": 101,
   "metadata": {
    "collapsed": false
   },
   "outputs": [
    {
     "name": "stdout",
     "output_type": "stream",
     "text": [
      "(12771, 55882)\n",
      "(12771,)\n"
     ]
    }
   ],
   "source": [
    "a_X_2g_array = a_X_2g.toarray()\n",
    "print(a_X_2g_array.shape)\n",
    "print(a_classes.shape)"
   ]
  },
  {
   "cell_type": "code",
   "execution_count": 102,
   "metadata": {
    "collapsed": false
   },
   "outputs": [],
   "source": [
    "X3g_train, X3g_test, y3g_train, y3g_test = train_test_split(a_X_2g_array, a_classes, test_size=0.3, random_state=42)"
   ]
  },
  {
   "cell_type": "markdown",
   "metadata": {},
   "source": [
    "#### Naive-Bayes Benchmark Model"
   ]
  },
  {
   "cell_type": "code",
   "execution_count": 257,
   "metadata": {
    "collapsed": false
   },
   "outputs": [],
   "source": [
    "gnb3 = GaussianNB()\n",
    "y_pred = gnb3.fit(X3g_train, y3g_train).predict(X3g_test)"
   ]
  },
  {
   "cell_type": "code",
   "execution_count": 258,
   "metadata": {
    "collapsed": false
   },
   "outputs": [
    {
     "name": "stdout",
     "output_type": "stream",
     "text": [
      "0.896844697847\n"
     ]
    }
   ],
   "source": [
    "fs1_3 = f1_score(np.array(y3g_test), y_pred, average='macro') \n",
    "print fs1_3"
   ]
  },
  {
   "cell_type": "markdown",
   "metadata": {},
   "source": [
    "#### Random Forest"
   ]
  },
  {
   "cell_type": "code",
   "execution_count": 105,
   "metadata": {
    "collapsed": true
   },
   "outputs": [],
   "source": [
    "from sklearn.ensemble import RandomForestClassifier\n",
    "clf = RandomForestClassifier(n_estimators=20,criterion='entropy')\n",
    "y_pred = clf.fit(X3g_train, y3g_train).predict(X3g_test)"
   ]
  },
  {
   "cell_type": "code",
   "execution_count": 106,
   "metadata": {
    "collapsed": false
   },
   "outputs": [
    {
     "name": "stdout",
     "output_type": "stream",
     "text": [
      "0.878467432249\n"
     ]
    }
   ],
   "source": [
    "fs1_4 = f1_score(np.array(y3g_test), y_pred, average='macro') \n",
    "print fs1_4"
   ]
  },
  {
   "cell_type": "markdown",
   "metadata": {},
   "source": [
    "### Using Word Vectors"
   ]
  },
  {
   "cell_type": "markdown",
   "metadata": {},
   "source": [
    "#### Naive Bayes Benchmark Model"
   ]
  },
  {
   "cell_type": "code",
   "execution_count": 221,
   "metadata": {
    "collapsed": false
   },
   "outputs": [],
   "source": [
    "cat_classes = a_classes.str.get_dummies()\n",
    "#print cat_classes"
   ]
  },
  {
   "cell_type": "code",
   "execution_count": 239,
   "metadata": {
    "collapsed": true
   },
   "outputs": [],
   "source": [
    "X_train, X_test, y_train, y_test = train_test_split(a_Xe, a_classes, test_size=0.33, random_state=42)"
   ]
  },
  {
   "cell_type": "code",
   "execution_count": 223,
   "metadata": {
    "collapsed": true
   },
   "outputs": [],
   "source": [
    "Xc_train, Xc_test, yc_train, yc_test = train_test_split(a_Xe, cat_classes, test_size=0.33, random_state=42)"
   ]
  },
  {
   "cell_type": "code",
   "execution_count": 240,
   "metadata": {
    "collapsed": false
   },
   "outputs": [],
   "source": [
    "gnb = GaussianNB()\n",
    "y_pred = gnb.fit(X_train, y_train).predict(X_test)"
   ]
  },
  {
   "cell_type": "code",
   "execution_count": 241,
   "metadata": {
    "collapsed": false
   },
   "outputs": [
    {
     "name": "stdout",
     "output_type": "stream",
     "text": [
      "0.149552249279\n"
     ]
    }
   ],
   "source": [
    "fs1_5 = f1_score(np.array(y_test), y_pred, average='macro') \n",
    "print fs1_5"
   ]
  },
  {
   "cell_type": "markdown",
   "metadata": {},
   "source": [
    "#### Random Forest"
   ]
  },
  {
   "cell_type": "code",
   "execution_count": 242,
   "metadata": {
    "collapsed": true
   },
   "outputs": [],
   "source": [
    "from sklearn.ensemble import RandomForestClassifier\n",
    "clf = RandomForestClassifier(n_estimators=20,criterion='entropy')\n",
    "y_pred = clf.fit(X_train, y_train).predict(X_test)"
   ]
  },
  {
   "cell_type": "code",
   "execution_count": 243,
   "metadata": {
    "collapsed": false
   },
   "outputs": [
    {
     "name": "stdout",
     "output_type": "stream",
     "text": [
      "0.707805926699\n"
     ]
    }
   ],
   "source": [
    "fs1_6 = f1_score(np.array(y_test), y_pred, average='macro') \n",
    "print fs1_6"
   ]
  },
  {
   "cell_type": "markdown",
   "metadata": {},
   "source": [
    "#### Convolutional Neural Network"
   ]
  },
  {
   "cell_type": "code",
   "execution_count": 230,
   "metadata": {
    "collapsed": false
   },
   "outputs": [
    {
     "name": "stdout",
     "output_type": "stream",
     "text": [
      "Epoch 1/40\n",
      "8556/8556 [==============================] - 13s - loss: 0.3970 - acc: 0.8319    \n",
      "Epoch 2/40\n",
      "8556/8556 [==============================] - 15s - loss: 0.3860 - acc: 0.8365    \n",
      "Epoch 3/40\n",
      "8556/8556 [==============================] - 14s - loss: 0.3733 - acc: 0.8375    \n",
      "Epoch 4/40\n",
      "8556/8556 [==============================] - 13s - loss: 0.3636 - acc: 0.8434    \n",
      "Epoch 5/40\n",
      "8556/8556 [==============================] - 14s - loss: 0.3514 - acc: 0.8511    \n",
      "Epoch 6/40\n",
      "8556/8556 [==============================] - 13s - loss: 0.3424 - acc: 0.8574    \n",
      "Epoch 7/40\n",
      "8556/8556 [==============================] - 15s - loss: 0.3318 - acc: 0.8620    \n",
      "Epoch 8/40\n",
      "8556/8556 [==============================] - 14s - loss: 0.3217 - acc: 0.8622    \n",
      "Epoch 9/40\n",
      "8556/8556 [==============================] - 15s - loss: 0.3111 - acc: 0.8717    \n",
      "Epoch 10/40\n",
      "8556/8556 [==============================] - 14s - loss: 0.3039 - acc: 0.8706    \n",
      "Epoch 11/40\n",
      "8556/8556 [==============================] - 14s - loss: 0.2952 - acc: 0.8742    \n",
      "Epoch 12/40\n",
      "8556/8556 [==============================] - 14s - loss: 0.2838 - acc: 0.8793    \n",
      "Epoch 13/40\n",
      "8556/8556 [==============================] - 14s - loss: 0.2774 - acc: 0.8828    \n",
      "Epoch 14/40\n",
      "8556/8556 [==============================] - 14s - loss: 0.2734 - acc: 0.8852    \n",
      "Epoch 15/40\n",
      "8556/8556 [==============================] - 14s - loss: 0.2631 - acc: 0.8891    \n",
      "Epoch 16/40\n",
      "8556/8556 [==============================] - 13s - loss: 0.2551 - acc: 0.8928    \n",
      "Epoch 17/40\n",
      "8556/8556 [==============================] - 14s - loss: 0.2487 - acc: 0.8946    \n",
      "Epoch 18/40\n",
      "8556/8556 [==============================] - 14s - loss: 0.2442 - acc: 0.8977    \n",
      "Epoch 19/40\n",
      "8556/8556 [==============================] - 14s - loss: 0.2338 - acc: 0.9017    \n",
      "Epoch 20/40\n",
      "8556/8556 [==============================] - 13s - loss: 0.2270 - acc: 0.9038    \n",
      "Epoch 21/40\n",
      "8556/8556 [==============================] - 14s - loss: 0.2215 - acc: 0.9050    \n",
      "Epoch 22/40\n",
      "8556/8556 [==============================] - 15s - loss: 0.2186 - acc: 0.9047    \n",
      "Epoch 23/40\n",
      "8556/8556 [==============================] - 14s - loss: 0.2123 - acc: 0.9090    \n",
      "Epoch 24/40\n",
      "8556/8556 [==============================] - 16s - loss: 0.2046 - acc: 0.9113    \n",
      "Epoch 25/40\n",
      "8556/8556 [==============================] - 16s - loss: 0.1995 - acc: 0.9140    \n",
      "Epoch 26/40\n",
      "8556/8556 [==============================] - 16s - loss: 0.1968 - acc: 0.9154    \n",
      "Epoch 27/40\n",
      "8556/8556 [==============================] - 15s - loss: 0.1903 - acc: 0.9156    \n",
      "Epoch 28/40\n",
      "8556/8556 [==============================] - 15s - loss: 0.1902 - acc: 0.9182    \n",
      "Epoch 29/40\n",
      "8556/8556 [==============================] - 14s - loss: 0.1854 - acc: 0.9184    \n",
      "Epoch 30/40\n",
      "8556/8556 [==============================] - 14s - loss: 0.1814 - acc: 0.9213    \n",
      "Epoch 31/40\n",
      "8556/8556 [==============================] - 14s - loss: 0.1754 - acc: 0.9237    \n",
      "Epoch 32/40\n",
      "8556/8556 [==============================] - 14s - loss: 0.1761 - acc: 0.9247    \n",
      "Epoch 33/40\n",
      "8556/8556 [==============================] - 14s - loss: 0.1683 - acc: 0.9279    \n",
      "Epoch 34/40\n",
      "8556/8556 [==============================] - 14s - loss: 0.1672 - acc: 0.9264    \n",
      "Epoch 35/40\n",
      "8556/8556 [==============================] - 14s - loss: 0.1619 - acc: 0.9298    \n",
      "Epoch 36/40\n",
      "8556/8556 [==============================] - 14s - loss: 0.1589 - acc: 0.9312    \n",
      "Epoch 37/40\n",
      "8556/8556 [==============================] - 13s - loss: 0.1560 - acc: 0.9312    \n",
      "Epoch 38/40\n",
      "8556/8556 [==============================] - 14s - loss: 0.1513 - acc: 0.9343    \n",
      "Epoch 39/40\n",
      "8556/8556 [==============================] - 13s - loss: 0.1505 - acc: 0.9348    \n",
      "Epoch 40/40\n",
      "8556/8556 [==============================] - 14s - loss: 0.1502 - acc: 0.9327    \n"
     ]
    },
    {
     "data": {
      "text/plain": [
       "<keras.callbacks.History at 0x124fc1cd0>"
      ]
     },
     "execution_count": 230,
     "metadata": {},
     "output_type": "execute_result"
    }
   ],
   "source": [
    "from keras.models import Model,Sequential\n",
    "from keras.layers.core import Reshape,Flatten,Dense\n",
    "from keras.layers.convolutional import Convolution2D\n",
    "from keras.models import load_model\n",
    "from keras.layers.pooling import MaxPooling2D\n",
    "\n",
    "try:\n",
    "    model = load_model(\"cnn_nlp_5.h5\")\n",
    "except:\n",
    "    print(\"Creating new Model\")\n",
    "    model = Sequential()\n",
    "    model.add(Reshape((50,maxdim/50,1), input_shape=(maxdim,)))\n",
    "    model.add(Convolution2D(16, 3, 3,activation='relu'))\n",
    "    model.add(Convolution2D(16, 3, 3,activation='relu'))\n",
    "    model.add(MaxPooling2D(pool_size=(3, 3)))\n",
    "    model.add(Convolution2D(32, 3, 3,activation='relu'))\n",
    "    \n",
    "    model.add(Flatten())\n",
    "    model.add(Dense(3, activation ='softmax'))\n",
    "    model.compile(optimizer='rmsprop',\n",
    "          loss='categorical_crossentropy',\n",
    "          metrics=['accuracy'])\n",
    "    \n",
    "    \n",
    "model.fit(np.array(Xc_train), np.array(yc_train), batch_size=32,verbose=1,nb_epoch=40)"
   ]
  },
  {
   "cell_type": "code",
   "execution_count": 231,
   "metadata": {
    "collapsed": true
   },
   "outputs": [],
   "source": [
    "model.save('cnn_nlp_5.h5')"
   ]
  },
  {
   "cell_type": "code",
   "execution_count": 236,
   "metadata": {
    "collapsed": false
   },
   "outputs": [
    {
     "name": "stdout",
     "output_type": "stream",
     "text": [
      "4160/4215 [============================>.] - ETA: 0s"
     ]
    }
   ],
   "source": [
    "y_pred = model.predict(np.array(Xc_test),batch_size=32,verbose=1)\n"
   ]
  },
  {
   "cell_type": "code",
   "execution_count": 237,
   "metadata": {
    "collapsed": false
   },
   "outputs": [
    {
     "name": "stdout",
     "output_type": "stream",
     "text": [
      "2\n",
      "robotics\n"
     ]
    }
   ],
   "source": [
    "print y_pred[3].argmax()\n",
    "_y_pred= []\n",
    "for y in y_pred:\n",
    "    r = y.argmax()\n",
    "    if r ==0:\n",
    "        _y_pred.append('biology')\n",
    "    if r ==1:\n",
    "        _y_pred.append('cooking')\n",
    "    if r ==2:\n",
    "        _y_pred.append('robotics')\n",
    "print _y_pred[3]"
   ]
  },
  {
   "cell_type": "code",
   "execution_count": 238,
   "metadata": {
    "collapsed": false
   },
   "outputs": [
    {
     "name": "stdout",
     "output_type": "stream",
     "text": [
      "0.765472738448\n"
     ]
    }
   ],
   "source": [
    "fs1_7 = f1_score(np.array(y_test), _y_pred, average='macro') \n",
    "print fs1_7"
   ]
  },
  {
   "cell_type": "markdown",
   "metadata": {},
   "source": [
    "### Conclusions"
   ]
  },
  {
   "cell_type": "markdown",
   "metadata": {},
   "source": [
    "In this first part of the capstone project I have investigated three different approches to transform input text into valuable inputs for machine learning algorithms: Bag-of-words, in which single words are taken, turned into integers and paired with the number of occurencies they have in each single sentence; 2-grams, in which the same thing is done for sequences of 2 words occurring in the same sentence; words vectors, in which any word is turned into a vector of floating values calculated trhough a previous automatic elebaboration of a corpus so that semantically similar words show similar vectors.\n",
    "\n",
    "I have applied Naive Bayes and Random Forest for each Input model in order to see what combination performed better in classifing cooking, robotics and biology questions.\n",
    "\n",
    "It turned out the best solution is Nayve Bayes trained on bi-grams."
   ]
  },
  {
   "cell_type": "code",
   "execution_count": 244,
   "metadata": {
    "collapsed": false
   },
   "outputs": [
    {
     "name": "stdout",
     "output_type": "stream",
     "text": [
      "    Input Model              ML Model    Result\n",
      "0  Bag of Words           Naive Bayes  0.887764\n",
      "1  Bag of Words         Random Forest  0.877510\n",
      "2       2_GRAMS           Naive Bayes  0.896845\n",
      "3       2_GRAMS         Random Forest  0.878467\n",
      "4   WordVectors           Naive Bayes  0.149552\n",
      "5   WordVectors         Random Forest  0.707806\n",
      "6   WordVectors  Conv. Neural Network  0.765473\n"
     ]
    }
   ],
   "source": [
    "result = [['Bag of Words','Naive Bayes',fs1_1],['Bag of Words','Random Forest',fs1_2],\n",
    "          ['2_GRAMS','Naive Bayes',fs1_3],['2_GRAMS','Random Forest',fs1_4],\n",
    "          ['WordVectors','Naive Bayes',fs1_5],['WordVectors','Random Forest',fs1_6],\n",
    "          ['WordVectors','Conv. Neural Network',fs1_7]]\n",
    "result = pd.DataFrame(result,columns=[\"Input Model\",\"ML Model\",\"Result\"])\n",
    "print result"
   ]
  },
  {
   "cell_type": "markdown",
   "metadata": {},
   "source": [
    "### Let's try the best model on my own questions"
   ]
  },
  {
   "cell_type": "markdown",
   "metadata": {},
   "source": [
    "The trained model succeds in classifying made up questions."
   ]
  },
  {
   "cell_type": "code",
   "execution_count": 266,
   "metadata": {
    "collapsed": true
   },
   "outputs": [],
   "source": [
    "def question_topic(q):\n",
    "    q = removePunctuation(q)\n",
    "    q = removeStopwords(q)\n",
    "    q =  ang_title_vectorizer.transform([q])\n",
    "    q = q.toarray()\n",
    "    answer = gnb3.predict(q)\n",
    "    return answer[0]"
   ]
  },
  {
   "cell_type": "code",
   "execution_count": 277,
   "metadata": {
    "collapsed": false
   },
   "outputs": [
    {
     "name": "stdout",
     "output_type": "stream",
     "text": [
      "cooking\n",
      "biology\n",
      "robotics\n"
     ]
    }
   ],
   "source": [
    "print question_topic('at what temperature should I bake bread?')\n",
    "print question_topic('how high can a frog jump?')\n",
    "print question_topic('how many cameras do I need to create a 3d image?')"
   ]
  },
  {
   "cell_type": "markdown",
   "metadata": {},
   "source": [
    "# 2nd Problem: Tagging Questions"
   ]
  },
  {
   "cell_type": "markdown",
   "metadata": {
    "collapsed": true
   },
   "source": [
    "Now we are going to focus on questions of a single topic and try to create a model capable of assigning tags to unknown questions."
   ]
  },
  {
   "cell_type": "code",
   "execution_count": 74,
   "metadata": {
    "collapsed": false
   },
   "outputs": [
    {
     "name": "stdout",
     "output_type": "stream",
     "text": [
      "(2771,)\n"
     ]
    }
   ],
   "source": [
    "robotics_questions = dataframes['robotics']['title']\n",
    "robotics_questions.head()\n",
    "print robotics_questions.shape"
   ]
  },
  {
   "cell_type": "code",
   "execution_count": 113,
   "metadata": {
    "collapsed": false
   },
   "outputs": [],
   "source": [
    "robotics_tags = dataframes['robotics']['tags']\n",
    "rtags = [ti for ta in dataframes[\"robotics\"].tags for ti in ta.split() ]\n",
    "rseries = pd.Series(rtags)\n",
    "counter = Counter(rseries)"
   ]
  },
  {
   "cell_type": "code",
   "execution_count": 114,
   "metadata": {
    "collapsed": false
   },
   "outputs": [
    {
     "name": "stdout",
     "output_type": "stream",
     "text": [
      "['quadcopter', 'mobile-robot', 'arduino', 'control', 'motor']\n",
      "[306, 295, 282, 255, 239]\n",
      "239\n",
      "4613\n"
     ]
    }
   ],
   "source": [
    "counter = counter.most_common()\n",
    "maxcount = 50\n",
    "keys = [c[0] for c in counter][:maxcount]\n",
    "counts = [c[1] for c in counter][:maxcount]\n",
    "\n",
    "print keys[:5]\n",
    "print counts[:5]\n",
    "print counts[4]\n",
    "\n",
    "count = 0\n",
    "for c in counts:\n",
    "    count=count+c\n",
    "print count"
   ]
  },
  {
   "cell_type": "code",
   "execution_count": 77,
   "metadata": {
    "collapsed": false
   },
   "outputs": [],
   "source": [
    "rc_tags_vectorizer = CountVectorizer(stop_words='english',token_pattern=r'\\b\\w\\w+-?\\w+\\b')\n",
    "rc_tags = rc_tags_vectorizer.fit_transform(r_tags)"
   ]
  },
  {
   "cell_type": "markdown",
   "metadata": {},
   "source": [
    "#### Nouns Benchmark"
   ]
  },
  {
   "cell_type": "markdown",
   "metadata": {},
   "source": [
    "As a simple benchmark model I am going to extract nouns and gerunds from questions and use them as possible tags. We rely on the pos_tag function (which means 'parts of speech tagging') of the nltk library to extract Nouns and Gerunds and see how this straightforward approach performs."
   ]
  },
  {
   "cell_type": "code",
   "execution_count": 78,
   "metadata": {
    "collapsed": false
   },
   "outputs": [],
   "source": [
    "nn_titles = []\n",
    "for i,title in enumerate(r_titles):\n",
    "    pos = []\n",
    "    pt_titl = nltk.pos_tag(word_tokenize(title))\n",
    "    for pt in pt_titl:\n",
    "        #print(pt)\n",
    "        if pt[1]=='NN':\n",
    "            pos.append(pt[0])\n",
    "            #pos.append(pt[0]+'s')\n",
    "        if pt[1]=='NNS':\n",
    "            #pos.append(pt[0])\n",
    "            pos.append(pt[0][:-1])\n",
    "        if pt[1]=='VBG':# or pt[1]=='VBP' or pt[1]=='VBS':\n",
    "            pos.append(pt[0])\n",
    "    nn_titles.append(\" \".join(pos))\n",
    "nn_titles = [n.split() for n in nn_titles]"
   ]
  },
  {
   "cell_type": "markdown",
   "metadata": {},
   "source": [
    "As the following example shows this approach is very simple but can provide interesting results we are now going to measure."
   ]
  },
  {
   "cell_type": "code",
   "execution_count": 79,
   "metadata": {
    "collapsed": false
   },
   "outputs": [
    {
     "name": "stdout",
     "output_type": "stream",
     "text": [
      "['approach', 'spin', 'controller', 'soccer', 'robot']\n",
      "['soccer', 'control']\n"
     ]
    }
   ],
   "source": [
    "print nn_titles[0]\n",
    "print r_tags[0].split()"
   ]
  },
  {
   "cell_type": "code",
   "execution_count": 80,
   "metadata": {
    "collapsed": false
   },
   "outputs": [],
   "source": [
    "vec_tags = []\n",
    "for nl in nn_titles:\n",
    "    vt = [0]*rc_tags.shape[1]\n",
    "    for n in nl:\n",
    "        if n in rc_tags_vectorizer.vocabulary_:\n",
    "            vt[rc_tags_vectorizer.vocabulary_.get(n)]=1\n",
    "    vec_tags.append(vt)"
   ]
  },
  {
   "cell_type": "code",
   "execution_count": 81,
   "metadata": {
    "collapsed": false
   },
   "outputs": [
    {
     "name": "stdout",
     "output_type": "stream",
     "text": [
      "---\n",
      "(array([123]),)\n",
      "(array([ 10, 123, 164]),)\n",
      "---\n",
      "(array([193]),)\n",
      "(array([148, 193]),)\n",
      "---\n",
      "(array([192]),)\n",
      "(array([122, 192]),)\n"
     ]
    }
   ],
   "source": [
    "idx = 3\n",
    "print \"---\"\n",
    "print np.array(vec_tags[idx]).nonzero()\n",
    "print np.array(rc_tags.toarray()[idx]).nonzero()\n",
    "idx = 5\n",
    "print \"---\"\n",
    "print np.array(vec_tags[idx]).nonzero()\n",
    "print np.array(rc_tags.toarray()[idx]).nonzero()\n",
    "idx = 9\n",
    "print \"---\"\n",
    "print np.array(vec_tags[idx]).nonzero()\n",
    "print np.array(rc_tags.toarray()[idx]).nonzero()"
   ]
  },
  {
   "cell_type": "markdown",
   "metadata": {},
   "source": [
    "We get an average of 0.6 for the f1 score metrics"
   ]
  },
  {
   "cell_type": "code",
   "execution_count": 82,
   "metadata": {
    "collapsed": false
   },
   "outputs": [
    {
     "name": "stdout",
     "output_type": "stream",
     "text": [
      "0.608191533899\n"
     ]
    }
   ],
   "source": [
    "rc_tags_array = rc_tags.toarray()\n",
    "_score = 0\n",
    "for i,el in enumerate(rc_tags_array):\n",
    "    _score+= f1_score(el,vec_tags[i], average='macro')\n",
    "print(_score/rc_tags.shape[0])"
   ]
  },
  {
   "cell_type": "markdown",
   "metadata": {},
   "source": [
    "#### Convolutional Neural Network"
   ]
  },
  {
   "cell_type": "markdown",
   "metadata": {},
   "source": [
    "Now we try to do something more sophisticated. We have seen word of vectors performed poorly with CNN for the first classification problem. I'd like now to create a CNN capable of tagging questions better that our NNs based approach (f1_score > 0.6) through word of vectors and I think an improvement could com from creating word vectors from titles' Nouns and Verbs only (avoiding any other POS TAG). \n",
    "\n",
    "Let's see if it works."
   ]
  },
  {
   "cell_type": "code",
   "execution_count": 90,
   "metadata": {
    "collapsed": false
   },
   "outputs": [],
   "source": [
    "a_Xe = []\n",
    "for title in nn_titles:\n",
    "    sentence = []\n",
    "    for word in title:\n",
    "        if word in w2v:\n",
    "            wv = w2v[word]\n",
    "            sentence.append(wv)\n",
    "    words = [w for s in sentence for w in s]\n",
    "    a_Xe.append(words)"
   ]
  },
  {
   "cell_type": "code",
   "execution_count": 411,
   "metadata": {
    "collapsed": false
   },
   "outputs": [
    {
     "name": "stdout",
     "output_type": "stream",
     "text": [
      "600\n"
     ]
    }
   ],
   "source": [
    "maxdim = 0\n",
    "for s in a_Xe:\n",
    "    if len(s)>maxdim:\n",
    "        maxdim = len(s)\n",
    "print maxdim"
   ]
  },
  {
   "cell_type": "code",
   "execution_count": 412,
   "metadata": {
    "collapsed": true
   },
   "outputs": [],
   "source": [
    "sentences =[]\n",
    "for sent in a_Xe:\n",
    "    padd = [0 for _ in range (maxdim - len(sent))]\n",
    "    padd = np.asarray(padd)\n",
    "    paddedsent = np.concatenate((sent,padd),axis=0)\n",
    "    sentences.append(paddedsent)\n",
    "a_Xe = sentences"
   ]
  },
  {
   "cell_type": "code",
   "execution_count": 415,
   "metadata": {
    "collapsed": true
   },
   "outputs": [],
   "source": [
    "r_Y_array = r_Y.toarray()\n",
    "Xc_train, Xc_test, yc_train, yc_test = train_test_split(a_Xe, r_Y_array, test_size=0.33, random_state=42)"
   ]
  },
  {
   "cell_type": "code",
   "execution_count": 420,
   "metadata": {
    "collapsed": false
   },
   "outputs": [
    {
     "name": "stdout",
     "output_type": "stream",
     "text": [
      "(1856, 230)\n",
      "(1856, 600)\n"
     ]
    }
   ],
   "source": [
    "print yc_train.shape\n",
    "print np.array(Xc_train).shape"
   ]
  },
  {
   "cell_type": "code",
   "execution_count": 469,
   "metadata": {
    "collapsed": false
   },
   "outputs": [
    {
     "name": "stdout",
     "output_type": "stream",
     "text": [
      "Epoch 1/10\n",
      "1856/1856 [==============================] - 4s - loss: 2.5415 - acc: 0.5474     \n",
      "Epoch 2/10\n",
      "1856/1856 [==============================] - 4s - loss: 2.5358 - acc: 0.5544     \n",
      "Epoch 3/10\n",
      "1856/1856 [==============================] - 4s - loss: 2.5310 - acc: 0.5453     \n",
      "Epoch 4/10\n",
      "1856/1856 [==============================] - 4s - loss: 2.5200 - acc: 0.5528     \n",
      "Epoch 5/10\n",
      "1856/1856 [==============================] - 4s - loss: 2.5234 - acc: 0.5673     \n",
      "Epoch 6/10\n",
      "1856/1856 [==============================] - 4s - loss: 2.5075 - acc: 0.5544     \n",
      "Epoch 7/10\n",
      "1856/1856 [==============================] - 4s - loss: 2.5049 - acc: 0.5673     \n",
      "Epoch 8/10\n",
      "1856/1856 [==============================] - 4s - loss: 2.5017 - acc: 0.5463     \n",
      "Epoch 9/10\n",
      "1856/1856 [==============================] - 4s - loss: 2.4998 - acc: 0.5506     \n",
      "Epoch 10/10\n",
      "1856/1856 [==============================] - 4s - loss: 2.4901 - acc: 0.5388     \n"
     ]
    },
    {
     "data": {
      "text/plain": [
       "<keras.callbacks.History at 0x1acaf5ad0>"
      ]
     },
     "execution_count": 469,
     "metadata": {},
     "output_type": "execute_result"
    }
   ],
   "source": [
    "from keras.models import Model,Sequential\n",
    "from keras.layers.core import Reshape,Flatten,Dense\n",
    "from keras.layers.convolutional import Convolution2D\n",
    "from keras.models import load_model\n",
    "from keras.layers.pooling import MaxPooling2D\n",
    "\n",
    "try:\n",
    "    model = load_model(\"cnn_tags_2.h5\")\n",
    "except:\n",
    "    print(\"Creating new Model\")\n",
    "    model = Sequential()\n",
    "    model.add(Reshape((maxdim/50,50,1), input_shape=(maxdim,)))\n",
    "    model.add(Convolution2D(16, 3, 3,activation='relu'))\n",
    "    model.add(Convolution2D(16, 3, 3,activation='relu'))\n",
    "    model.add(MaxPooling2D(pool_size=(2, 2)))\n",
    "    model.add(Convolution2D(32, 3, 3,activation='relu'))\n",
    "    \n",
    "    model.add(Flatten())\n",
    "    model.add(Dense(230, activation ='softmax'))\n",
    "    model.compile(optimizer='rmsprop',\n",
    "          loss='categorical_crossentropy',\n",
    "          metrics=['accuracy'])\n",
    "    \n",
    "    \n",
    "model.fit(np.array(Xc_train), np.array(yc_train), batch_size=32,verbose=1,nb_epoch=10)"
   ]
  },
  {
   "cell_type": "code",
   "execution_count": 470,
   "metadata": {
    "collapsed": true
   },
   "outputs": [],
   "source": [
    "model.save(\"cnn_tags_2.h5\")"
   ]
  },
  {
   "cell_type": "code",
   "execution_count": null,
   "metadata": {
    "collapsed": false
   },
   "outputs": [],
   "source": [
    "y_pred = model.predict(np.array(Xc_test),batch_size=32,verbose=1)"
   ]
  },
  {
   "cell_type": "code",
   "execution_count": 501,
   "metadata": {
    "collapsed": false
   },
   "outputs": [],
   "source": [
    "def getWord(_idx):\n",
    "    for word,idx in r_tag_vectorizer.vocabulary_.iteritems():\n",
    "        if idx == _idx:\n",
    "            return word"
   ]
  },
  {
   "cell_type": "code",
   "execution_count": 502,
   "metadata": {
    "collapsed": false
   },
   "outputs": [],
   "source": [
    "_y_pred= []\n",
    "for y in y_pred:\n",
    "    ny = [0]*len(y)\n",
    "    for i,v in enumerate(y):\n",
    "        if v > 0.1:\n",
    "            ny[i]=1\n",
    "    _y_pred.append(ny)"
   ]
  },
  {
   "cell_type": "code",
   "execution_count": 503,
   "metadata": {
    "collapsed": false
   },
   "outputs": [
    {
     "name": "stdout",
     "output_type": "stream",
     "text": [
      "230\n",
      "230\n",
      "0.195349315056\n"
     ]
    }
   ],
   "source": [
    "print len(yc_test[0])\n",
    "print len(y_pred[0])\n",
    "\n",
    "_score = 0\n",
    "for i,el in enumerate(_y_pred):\n",
    "    _score+= f1_score(yc_test[i],el, average='macro')\n",
    "print(_score/rc_tags.shape[0])"
   ]
  },
  {
   "cell_type": "markdown",
   "metadata": {},
   "source": [
    "I trained the CNN for 40 epochs and the final average f1_score result is about 0.2. I will try with a bi-grams input model."
   ]
  },
  {
   "cell_type": "markdown",
   "metadata": {},
   "source": [
    "#### trying with bi-grams"
   ]
  },
  {
   "cell_type": "code",
   "execution_count": 91,
   "metadata": {
    "collapsed": false
   },
   "outputs": [
    {
     "name": "stdout",
     "output_type": "stream",
     "text": [
      "vectorizing robotics titles with 2-grams\n"
     ]
    }
   ],
   "source": [
    "r3g_title_vectorizer = CountVectorizer(stop_words='english',ngram_range=(1, 2),\n",
    "                                       token_pattern=r'\\b\\w\\w+-?\\w+\\b')\n",
    "print \"vectorizing robotics titles with 2-grams\"\n",
    "r_X_3g = r3g_title_vectorizer.fit_transform(r_titles)"
   ]
  },
  {
   "cell_type": "code",
   "execution_count": 92,
   "metadata": {
    "collapsed": false
   },
   "outputs": [],
   "source": [
    "r_Y_array = r_Y.toarray()\n",
    "r_X_3g_array = r_X_3g.toarray()\n",
    "Xc_train, Xc_test, yc_train, yc_test = train_test_split(r_X_3g_array, r_Y_array, test_size=0.33, random_state=42)"
   ]
  },
  {
   "cell_type": "code",
   "execution_count": 93,
   "metadata": {
    "collapsed": false
   },
   "outputs": [
    {
     "name": "stderr",
     "output_type": "stream",
     "text": [
      "Using TensorFlow backend.\n"
     ]
    },
    {
     "name": "stdout",
     "output_type": "stream",
     "text": [
      "Epoch 1/10\n",
      "1856/1856 [==============================] - 97s - loss: 2.3694 - acc: 0.5722    \n",
      "Epoch 2/10\n",
      "1856/1856 [==============================] - 95s - loss: 2.3681 - acc: 0.5560    \n",
      "Epoch 3/10\n",
      "1856/1856 [==============================] - 103s - loss: 2.3587 - acc: 0.5717   \n",
      "Epoch 4/10\n",
      "1856/1856 [==============================] - 94s - loss: 2.3556 - acc: 0.5603    \n",
      "Epoch 5/10\n",
      "1856/1856 [==============================] - 91s - loss: 2.3507 - acc: 0.5733    \n",
      "Epoch 6/10\n",
      "1856/1856 [==============================] - 100s - loss: 2.3447 - acc: 0.5663   \n",
      "Epoch 7/10\n",
      "1856/1856 [==============================] - 103s - loss: 2.3483 - acc: 0.5609   \n",
      "Epoch 8/10\n",
      "1856/1856 [==============================] - 95s - loss: 2.3404 - acc: 0.5496    \n",
      "Epoch 9/10\n",
      "1856/1856 [==============================] - 110s - loss: 2.3348 - acc: 0.5684   \n",
      "Epoch 10/10\n",
      "1856/1856 [==============================] - 109s - loss: 2.3337 - acc: 0.5700   \n"
     ]
    },
    {
     "data": {
      "text/plain": [
       "<keras.callbacks.History at 0x11404ee10>"
      ]
     },
     "execution_count": 93,
     "metadata": {},
     "output_type": "execute_result"
    }
   ],
   "source": [
    "from keras.models import Model,Sequential\n",
    "from keras.layers.core import Reshape,Flatten,Dense\n",
    "from keras.layers.convolutional import Convolution1D\n",
    "from keras.models import load_model\n",
    "from keras.layers.pooling import MaxPooling2D\n",
    "from keras.layers.embeddings import Embedding\n",
    "\n",
    "maxdim = Xc_train.shape[1]\n",
    "try:\n",
    "    model = load_model(\"cnn_tags_3g_1.h5\")\n",
    "except:\n",
    "    print(\"Creating new Model\")\n",
    "    model = Sequential()\n",
    "    model.add(Embedding(maxdim,15,input_length=maxdim))\n",
    "    model.add(Convolution1D(16, 3,activation='relu'))\n",
    "    model.add(Convolution1D(16, 3,activation='relu'))\n",
    "    \n",
    "    model.add(Flatten())\n",
    "    model.add(Dense(230, activation ='softmax'))\n",
    "    model.compile(optimizer='rmsprop',\n",
    "          loss='categorical_crossentropy',\n",
    "          metrics=['accuracy'])\n",
    "    \n",
    "    \n",
    "model.fit(np.array(Xc_train), np.array(yc_train), batch_size=32,verbose=1,nb_epoch=10)"
   ]
  },
  {
   "cell_type": "code",
   "execution_count": 94,
   "metadata": {
    "collapsed": true
   },
   "outputs": [],
   "source": [
    "model.save(\"cnn_tags_3g_1.h5\")"
   ]
  },
  {
   "cell_type": "code",
   "execution_count": 95,
   "metadata": {
    "collapsed": false
   },
   "outputs": [
    {
     "name": "stdout",
     "output_type": "stream",
     "text": [
      "915/915 [==============================] - 9s     \n"
     ]
    }
   ],
   "source": [
    "y_pred = model.predict(np.array(Xc_test),batch_size=32,verbose=1)"
   ]
  },
  {
   "cell_type": "code",
   "execution_count": 96,
   "metadata": {
    "collapsed": true
   },
   "outputs": [],
   "source": [
    "_y_pred= []\n",
    "for y in y_pred:\n",
    "    ny = [0]*len(y)\n",
    "    for i,v in enumerate(y):\n",
    "        if v > 0.16:\n",
    "            ny[i]=1\n",
    "    _y_pred.append(ny)"
   ]
  },
  {
   "cell_type": "code",
   "execution_count": 97,
   "metadata": {
    "collapsed": false
   },
   "outputs": [
    {
     "name": "stdout",
     "output_type": "stream",
     "text": [
      "230\n",
      "230\n",
      "0.617673068191\n"
     ]
    }
   ],
   "source": [
    "print len(yc_test[0])\n",
    "print len(y_pred[0])\n",
    "\n",
    "_score = 0\n",
    "for i,el in enumerate(_y_pred):\n",
    "    _score+= f1_score(yc_test[i],el, average='macro')\n",
    "print(_score/len(_y_pred))"
   ]
  },
  {
   "cell_type": "markdown",
   "metadata": {},
   "source": [
    "the obtaind result is very similar to previous one meaning the bi-grams input model didn't affect the performance. I will try with random forest."
   ]
  },
  {
   "cell_type": "markdown",
   "metadata": {},
   "source": [
    "#### back to Random Forest"
   ]
  },
  {
   "cell_type": "code",
   "execution_count": 98,
   "metadata": {
    "collapsed": false
   },
   "outputs": [
    {
     "name": "stdout",
     "output_type": "stream",
     "text": [
      "(1856, 13343)\n",
      "(1856, 230)\n"
     ]
    }
   ],
   "source": [
    "print Xc_train.shape\n",
    "print yc_train.shape"
   ]
  },
  {
   "cell_type": "code",
   "execution_count": 101,
   "metadata": {
    "collapsed": false
   },
   "outputs": [],
   "source": [
    "from sklearn.ensemble import RandomForestClassifier\n",
    "clf = RandomForestClassifier(n_estimators=20,criterion='entropy')\n",
    "y_pred = clf.fit(Xc_train, yc_train).predict(Xc_test)"
   ]
  },
  {
   "cell_type": "code",
   "execution_count": 102,
   "metadata": {
    "collapsed": true
   },
   "outputs": [],
   "source": [
    "_y_pred= []\n",
    "for y in y_pred:\n",
    "    ny = [0]*len(y)\n",
    "    for i,v in enumerate(y):\n",
    "        if v > 0.16:\n",
    "            ny[i]=1\n",
    "    _y_pred.append(ny)"
   ]
  },
  {
   "cell_type": "code",
   "execution_count": 104,
   "metadata": {
    "collapsed": false
   },
   "outputs": [
    {
     "name": "stdout",
     "output_type": "stream",
     "text": [
      "230\n",
      "230\n",
      "0.590164411529\n"
     ]
    }
   ],
   "source": [
    "print len(yc_test[0])\n",
    "print len(y_pred[0])\n",
    "\n",
    "_score = 0\n",
    "for i,el in enumerate(_y_pred):\n",
    "    _score+= f1_score(yc_test[i],el, average='macro')\n",
    "print(_score/len(_y_pred))"
   ]
  },
  {
   "cell_type": "markdown",
   "metadata": {},
   "source": [
    "Again the result is about 0.2. Are we dealing with too much tags? Considering how unbalanced the tags are we might have better results if we focused on the most relevant 50 tags."
   ]
  },
  {
   "cell_type": "markdown",
   "metadata": {},
   "source": [
    "#### Trying reducing tags and deal with the 50 most relevant"
   ]
  },
  {
   "cell_type": "code",
   "execution_count": 115,
   "metadata": {
    "collapsed": false
   },
   "outputs": [],
   "source": [
    "r_top50_tags = []\n",
    "for tags in r_tags:\n",
    "    nr = ''\n",
    "    for tag in word_tokenize(tags):\n",
    "        if tag in keys:\n",
    "            nr+=tag+' '\n",
    "    r_top50_tags.append(nr)"
   ]
  },
  {
   "cell_type": "code",
   "execution_count": 116,
   "metadata": {
    "collapsed": false
   },
   "outputs": [
    {
     "data": {
      "text/plain": [
       "array(['control ', 'control rcservo ', '', ..., 'arduino raspberry-pi ',\n",
       "       'slam ekf ', ''], \n",
       "      dtype='|S76')"
      ]
     },
     "execution_count": 116,
     "metadata": {},
     "output_type": "execute_result"
    }
   ],
   "source": [
    "np.array(r_top50_tags)"
   ]
  },
  {
   "cell_type": "code",
   "execution_count": 117,
   "metadata": {
    "collapsed": false
   },
   "outputs": [],
   "source": [
    "r_50tag_vectorizer = CountVectorizer(stop_words='english',\n",
    "                                       token_pattern=r'\\b\\w\\w+-?\\w+\\b')\n",
    "r_top50_tags = r_50tag_vectorizer.fit_transform(np.array(r_top50_tags))"
   ]
  },
  {
   "cell_type": "code",
   "execution_count": 118,
   "metadata": {
    "collapsed": false
   },
   "outputs": [
    {
     "data": {
      "text/plain": [
       "(2771, 50)"
      ]
     },
     "execution_count": 118,
     "metadata": {},
     "output_type": "execute_result"
    }
   ],
   "source": [
    "r_top50_tags.shape"
   ]
  },
  {
   "cell_type": "code",
   "execution_count": 119,
   "metadata": {
    "collapsed": false
   },
   "outputs": [
    {
     "name": "stdout",
     "output_type": "stream",
     "text": [
      "['quadcopter', 'mobile-robot', 'arduino', 'control', 'motor', 'sensors', 'robotic-arm', 'pid', 'localization', 'microcontroller', 'slam', 'ros', 'raspberry-pi', 'irobot-create', 'wheeled-robot', 'design', 'kinematics', 'kalman-filter', 'computer-vision', 'imu', 'motion-planning', 'inverse-kinematics', 'mechanism', 'brushless-motor', 'battery', 'power', 'cameras', 'stepper-motor', 'electronics', 'accelerometer', 'navigation', 'software', 'kinect', 'servos', 'algorithm', 'gyroscope', 'actuator', 'matlab', 'dynamics', 'ekf', 'servomotor', 'sensor-fusion', 'torque', 'mapping', 'esc', 'rcservo', 'industrial-robot', 'gps', 'odometry', 'stereo-vision']\n"
     ]
    }
   ],
   "source": [
    "print keys"
   ]
  },
  {
   "cell_type": "code",
   "execution_count": 120,
   "metadata": {
    "collapsed": true
   },
   "outputs": [],
   "source": [
    "r_Y_array = r_top50_tags.toarray()\n",
    "r_X_3g_array = r_X_3g.toarray()\n",
    "Xc_train, Xc_test, yc_train, yc_test = train_test_split(r_X_3g_array, r_Y_array, test_size=0.33, random_state=42)"
   ]
  },
  {
   "cell_type": "code",
   "execution_count": 121,
   "metadata": {
    "collapsed": false
   },
   "outputs": [
    {
     "name": "stdout",
     "output_type": "stream",
     "text": [
      "Epoch 1/10\n",
      "1856/1856 [==============================] - 44s - loss: 1.3097 - acc: 0.5954    \n",
      "Epoch 2/10\n",
      "1856/1856 [==============================] - 40s - loss: 1.3038 - acc: 0.6099    \n",
      "Epoch 3/10\n",
      "1856/1856 [==============================] - 44s - loss: 1.3025 - acc: 0.5900    \n",
      "Epoch 4/10\n",
      "1856/1856 [==============================] - 40s - loss: 1.2994 - acc: 0.6040    \n",
      "Epoch 5/10\n",
      "1856/1856 [==============================] - 38s - loss: 1.2986 - acc: 0.5948    \n",
      "Epoch 6/10\n",
      "1856/1856 [==============================] - 38s - loss: 1.2936 - acc: 0.6045    \n",
      "Epoch 7/10\n",
      "1856/1856 [==============================] - 38s - loss: 1.2913 - acc: 0.5938    \n",
      "Epoch 8/10\n",
      "1856/1856 [==============================] - 39s - loss: 1.2905 - acc: 0.6126    \n",
      "Epoch 9/10\n",
      "1856/1856 [==============================] - 40s - loss: 1.2868 - acc: 0.5997    \n",
      "Epoch 10/10\n",
      "1856/1856 [==============================] - 38s - loss: 1.2851 - acc: 0.6002    \n"
     ]
    },
    {
     "data": {
      "text/plain": [
       "<keras.callbacks.History at 0x12cb20e90>"
      ]
     },
     "execution_count": 121,
     "metadata": {},
     "output_type": "execute_result"
    }
   ],
   "source": [
    "maxdim = Xc_train.shape[1]\n",
    "try:\n",
    "    model = load_model(\"cnn_50tags_3g_1.h5\")\n",
    "except:\n",
    "    print(\"Creating new Model\")\n",
    "    model = Sequential()\n",
    "    model.add(Embedding(maxdim,15,input_length=maxdim))\n",
    "    model.add(Convolution1D(16, 3,activation='relu'))\n",
    "    model.add(Convolution1D(16, 3,activation='relu'))\n",
    "    \n",
    "    model.add(Flatten())\n",
    "    model.add(Dense(50, activation ='softmax'))\n",
    "    model.compile(optimizer='rmsprop',\n",
    "          loss='categorical_crossentropy',\n",
    "          metrics=['accuracy'])\n",
    "    \n",
    "    \n",
    "model.fit(np.array(Xc_train), np.array(yc_train), batch_size=32,verbose=1,nb_epoch=10)"
   ]
  },
  {
   "cell_type": "code",
   "execution_count": 122,
   "metadata": {
    "collapsed": true
   },
   "outputs": [],
   "source": [
    "model.save('cnn_50tags_3g_1.h5')"
   ]
  },
  {
   "cell_type": "code",
   "execution_count": 123,
   "metadata": {
    "collapsed": true
   },
   "outputs": [],
   "source": [
    "cnn_model = model"
   ]
  },
  {
   "cell_type": "code",
   "execution_count": 124,
   "metadata": {
    "collapsed": false
   },
   "outputs": [
    {
     "name": "stdout",
     "output_type": "stream",
     "text": [
      "915/915 [==============================] - 7s     \n"
     ]
    }
   ],
   "source": [
    "y_pred = model.predict(np.array(Xc_test),batch_size=32,verbose=1)"
   ]
  },
  {
   "cell_type": "code",
   "execution_count": 125,
   "metadata": {
    "collapsed": true
   },
   "outputs": [],
   "source": [
    "_y_pred= []\n",
    "for y in y_pred:\n",
    "    ny = [0]*len(y)\n",
    "    for i,v in enumerate(y):\n",
    "        if v > 0.16:\n",
    "            ny[i]=1\n",
    "    _y_pred.append(ny)"
   ]
  },
  {
   "cell_type": "code",
   "execution_count": 127,
   "metadata": {
    "collapsed": false
   },
   "outputs": [
    {
     "name": "stdout",
     "output_type": "stream",
     "text": [
      "50\n",
      "50\n",
      "0.640445560283\n"
     ]
    }
   ],
   "source": [
    "print len(yc_test[0])\n",
    "print len(y_pred[0])\n",
    "\n",
    "_score = 0\n",
    "for i,el in enumerate(_y_pred):\n",
    "    _score+= f1_score(yc_test[i],el, average='macro')\n",
    "print(_score/len(_y_pred))"
   ]
  },
  {
   "cell_type": "markdown",
   "metadata": {},
   "source": [
    "#### top 50 with random forest"
   ]
  },
  {
   "cell_type": "code",
   "execution_count": 128,
   "metadata": {
    "collapsed": true
   },
   "outputs": [],
   "source": [
    "clf = RandomForestClassifier(n_estimators=50,criterion='entropy')\n",
    "y_pred = clf.fit(Xc_train, yc_train).predict(Xc_test)"
   ]
  },
  {
   "cell_type": "code",
   "execution_count": 129,
   "metadata": {
    "collapsed": true
   },
   "outputs": [],
   "source": [
    "_y_pred= []\n",
    "for y in y_pred:\n",
    "    ny = [0]*len(y)\n",
    "    for i,v in enumerate(y):\n",
    "        if v > 0.16:\n",
    "            ny[i]=1\n",
    "    _y_pred.append(ny)"
   ]
  },
  {
   "cell_type": "code",
   "execution_count": 131,
   "metadata": {
    "collapsed": false
   },
   "outputs": [
    {
     "name": "stdout",
     "output_type": "stream",
     "text": [
      "50\n",
      "50\n",
      "0.970754098361\n",
      "0.653152914879\n"
     ]
    }
   ],
   "source": [
    "print len(yc_test[0])\n",
    "print len(y_pred[0])\n",
    "\n",
    "_score = 0\n",
    "_ascore =0\n",
    "for i,el in enumerate(_y_pred):\n",
    "    _ascore += accuracy_score(yc_test[i], el)\n",
    "    _score+= f1_score(yc_test[i],el, average='macro')\n",
    "print(_ascore/len(_y_pred))\n",
    "print(_score/len(_y_pred))"
   ]
  },
  {
   "cell_type": "markdown",
   "metadata": {},
   "source": [
    "### SVM"
   ]
  },
  {
   "cell_type": "code",
   "execution_count": 132,
   "metadata": {
    "collapsed": false
   },
   "outputs": [],
   "source": [
    "nn_titles = [\" \".join(n) for n in nn_titles]\n",
    "rnn_title_vectorizer = CountVectorizer(stop_words='english',\n",
    "                                       token_pattern=r'\\b\\w\\w+-?\\w+\\b')\n",
    "rnn_X = rnn_title_vectorizer.fit_transform(nn_titles)"
   ]
  },
  {
   "cell_type": "code",
   "execution_count": 133,
   "metadata": {
    "collapsed": false
   },
   "outputs": [],
   "source": [
    "r_Y_array = r_top50_tags.toarray()\n",
    "rnn_X_array = rnn_X.toarray()\n",
    "Xc_train, Xc_test, yc_train, yc_test,idx1,idx2 = train_test_split(rnn_X_array, r_Y_array,range(rnn_X_array.shape[0]), test_size=0.33, random_state=42)"
   ]
  },
  {
   "cell_type": "code",
   "execution_count": 134,
   "metadata": {
    "collapsed": false
   },
   "outputs": [
    {
     "name": "stdout",
     "output_type": "stream",
     "text": [
      "(2771, 50)\n"
     ]
    }
   ],
   "source": [
    "print r_Y_array.shape"
   ]
  },
  {
   "cell_type": "code",
   "execution_count": 135,
   "metadata": {
    "collapsed": false
   },
   "outputs": [
    {
     "name": "stdout",
     "output_type": "stream",
     "text": [
      "(50, 1856)\n"
     ]
    }
   ],
   "source": [
    "svm_y = []\n",
    "for t in range(yc_train.shape[1]):\n",
    "    vec = [yc_train[q,t] for q in range(yc_train.shape[0])]\n",
    "    svm_y.append(vec)\n",
    "svm_y = np.array(svm_y)\n",
    "print svm_y.shape"
   ]
  },
  {
   "cell_type": "code",
   "execution_count": 136,
   "metadata": {
    "collapsed": false
   },
   "outputs": [
    {
     "name": "stdout",
     "output_type": "stream",
     "text": [
      "0 1 2 3 4 5 6 7 8 9 10 11 12 13 14 15 16 17 18 19 20 21 22 23 24 25 26 27 28 29 30 31 32 33 34 35 36 37 38 39 40 41 42 43 44 45 46 47 48 49\n"
     ]
    }
   ],
   "source": [
    "from sklearn import svm\n",
    "svm_array = []\n",
    "for t in range(yc_train.shape[1]):\n",
    "    print t,\n",
    "    clf = svm.LinearSVC()\n",
    "    clf.fit(Xc_train, svm_y[t])\n",
    "    svm_array.append(clf)"
   ]
  },
  {
   "cell_type": "code",
   "execution_count": 137,
   "metadata": {
    "collapsed": false
   },
   "outputs": [
    {
     "name": "stdout",
     "output_type": "stream",
     "text": [
      "0 1 2 3 4 5 6 7 8 9 10 11 12 13 14 15 16 17 18 19 20 21 22 23 24 25 26 27 28 29 30 31 32 33 34 35 36 37 38 39 40 41 42 43 44 45 46 47 48 49\n"
     ]
    }
   ],
   "source": [
    "from sklearn import svm\n",
    "gnb_array = []\n",
    "for t in range(yc_train.shape[1]):\n",
    "    print t,\n",
    "    clf = GaussianNB()\n",
    "    clf.fit(Xc_train, svm_y[t])\n",
    "    gnb_array.append(clf)"
   ]
  },
  {
   "cell_type": "code",
   "execution_count": 138,
   "metadata": {
    "collapsed": false
   },
   "outputs": [
    {
     "name": "stdout",
     "output_type": "stream",
     "text": [
      "* * * * * * * * * * * * * * * * * * * * * * * * * * * * * * * * * * * * * * * * * * * * * * * * * *\n"
     ]
    }
   ],
   "source": [
    "out1 = []\n",
    "for cl in svm_array:\n",
    "    print '*',\n",
    "    y_pred = cl.predict(Xc_test)\n",
    "    out1.append(y_pred)"
   ]
  },
  {
   "cell_type": "code",
   "execution_count": 1029,
   "metadata": {
    "collapsed": false
   },
   "outputs": [
    {
     "name": "stdout",
     "output_type": "stream",
     "text": [
      "* * * * * * * * * * * * * * * * * * * * * * * * * * * * * * * * * * * * * * * * * * * * * * * * * *\n"
     ]
    }
   ],
   "source": [
    "out1 = []\n",
    "for cl in gnb_array:\n",
    "    print '*',\n",
    "    y_pred = cl.predict(Xc_test)\n",
    "    out1.append(y_pred)"
   ]
  },
  {
   "cell_type": "code",
   "execution_count": 139,
   "metadata": {
    "collapsed": false
   },
   "outputs": [
    {
     "name": "stdout",
     "output_type": "stream",
     "text": [
      "(50, 915)\n",
      "(915, 50)\n"
     ]
    }
   ],
   "source": [
    "out1 = np.array(out1)\n",
    "print out1.shape\n",
    "res = []\n",
    "for q in range(out1.shape[1]):\n",
    "    vec = [out1[t,q] for t in range(out1.shape[0])]\n",
    "    res.append(vec)\n",
    "res = np.array(res)\n",
    "print res.shape"
   ]
  },
  {
   "cell_type": "code",
   "execution_count": 140,
   "metadata": {
    "collapsed": false
   },
   "outputs": [
    {
     "name": "stdout",
     "output_type": "stream",
     "text": [
      "0.66424619993\n",
      "0.96625136612\n"
     ]
    }
   ],
   "source": [
    "_score = 0\n",
    "_ascore =0\n",
    "for i,el in enumerate(res):\n",
    "    _ascore += accuracy_score(yc_test[i], el)\n",
    "    _score+= f1_score(yc_test[i],el, average='macro')\n",
    "print(_score/len(res))\n",
    "print(_ascore/len(res))"
   ]
  },
  {
   "cell_type": "markdown",
   "metadata": {},
   "source": [
    "### hybrid approach"
   ]
  },
  {
   "cell_type": "markdown",
   "metadata": {},
   "source": [
    "Here is a possible hybrid approach: \n",
    "\n",
    "1. we take the list of nouns and gerunds for each questiontitle and contnt and keep only those included in the top 50 tags;\n",
    "2. we use the array of SVMs and GNBs to predict the remaining tags\n",
    "\n"
   ]
  },
  {
   "cell_type": "code",
   "execution_count": 141,
   "metadata": {
    "collapsed": false
   },
   "outputs": [
    {
     "name": "stdout",
     "output_type": "stream",
     "text": [
      "['torque' 'motor']\n"
     ]
    }
   ],
   "source": [
    "#print dataframes['robotics']['content'][0]\n",
    "y_content = [dataframes['robotics']['content'][idx] for idx in idx2]\n",
    "nn_content = []\n",
    "for i,content in enumerate(y_content):\n",
    "    pos = []\n",
    "    pt_cont = nltk.pos_tag(word_tokenize(content))\n",
    "    for pt in pt_cont:\n",
    "        #print(pt)\n",
    "        if pt[0] in keys:\n",
    "            pos.append(pt[0])\n",
    "    pos = pd.Series(pos).unique()\n",
    "    nn_content.append(pos)\n",
    "#nn_content = [n.split() for n in nn_content]\n",
    "nn_content = pd.Series(nn_content)\n",
    "print nn_content[1]"
   ]
  },
  {
   "cell_type": "code",
   "execution_count": 142,
   "metadata": {
    "collapsed": false
   },
   "outputs": [
    {
     "data": {
      "text/plain": [
       "array([], dtype=float64)"
      ]
     },
     "execution_count": 142,
     "metadata": {},
     "output_type": "execute_result"
    }
   ],
   "source": [
    "nn_content[3]"
   ]
  },
  {
   "cell_type": "code",
   "execution_count": 143,
   "metadata": {
    "collapsed": false
   },
   "outputs": [
    {
     "name": "stdout",
     "output_type": "stream",
     "text": [
      "gear ratio motor\n",
      "['motor']\n"
     ]
    }
   ],
   "source": [
    "extracted = []\n",
    "y_titles = [nn_titles[idx] for idx in idx2]\n",
    "for nt in y_titles:\n",
    "    filtered = []\n",
    "    for n in nt.split():\n",
    "        if n in keys:\n",
    "            filtered.append(n)\n",
    "    extracted.append(filtered)\n",
    "\n",
    "idx = 1\n",
    "print y_titles[idx]\n",
    "print extracted[idx]        "
   ]
  },
  {
   "cell_type": "code",
   "execution_count": 144,
   "metadata": {
    "collapsed": false
   },
   "outputs": [],
   "source": [
    "extracted = [\" \".join(e) for e in extracted]\n",
    "c_extracted = [\" \".join(c) for c in nn_content]\n",
    "extr_vec = r_50tag_vectorizer.transform(extracted)\n",
    "c_extr_vec = r_50tag_vectorizer.transform(c_extracted)"
   ]
  },
  {
   "cell_type": "code",
   "execution_count": 145,
   "metadata": {
    "collapsed": false
   },
   "outputs": [
    {
     "name": "stdout",
     "output_type": "stream",
     "text": [
      "  (0, 31)\t1\n",
      "  (0, 39)\t1\n",
      "  (0, 41)\t1\n"
     ]
    }
   ],
   "source": [
    "print c_extr_vec[0]"
   ]
  },
  {
   "cell_type": "code",
   "execution_count": 146,
   "metadata": {
    "collapsed": false
   },
   "outputs": [
    {
     "name": "stdout",
     "output_type": "stream",
     "text": [
      "* * * * * * * * * * * * * * * * * * * * * * * * * * * * * * * * * * * * * * * * * * * * * * * * * * * * * * * * * * * * * * * * * * * * * * * * * * * * * * * * * * * * * * * * * * * * * * * * * * * *\n"
     ]
    }
   ],
   "source": [
    "predicted = []\n",
    "predicted2 = []\n",
    "\n",
    "for cl in svm_array:\n",
    "    print '*',\n",
    "    y_pred = cl.predict(Xc_test)\n",
    "    predicted.append(y_pred)\n",
    "\n",
    "for c2 in gnb_array:\n",
    "    print '*',\n",
    "    y_pred = c2.predict(Xc_test)\n",
    "    predicted2.append(y_pred)\n",
    "\n",
    "    "
   ]
  },
  {
   "cell_type": "code",
   "execution_count": 147,
   "metadata": {
    "collapsed": false,
    "scrolled": true
   },
   "outputs": [
    {
     "name": "stdout",
     "output_type": "stream",
     "text": [
      "915\n",
      "[0 0 0 0 0 0 0 0 0 1 0 0 0 0 0 0 0 0 0 0 0 0 1 0 0 0 0 0 0 0 0 0 0 0 0 0 0\n",
      " 0 0 0 0 0 0 0 0 1 0 0 0 0]\n"
     ]
    }
   ],
   "source": [
    "idx = 5\n",
    "predictions = []\n",
    "for idx,el in enumerate(predicted):\n",
    "    pred = [x for x in el.nonzero()[0] if x in predicted2[idx].nonzero()[0]]\n",
    "    predictions.append(pred)\n",
    "\n",
    "    pred_array = []\n",
    "for qi in range(yc_test.shape[0]):\n",
    "    tags = [0]*yc_test.shape[1]\n",
    "    pred_array.append(tags)\n",
    "pred_array = np.array(pred_array)\n",
    "\n",
    "for tag,pred in enumerate(predictions):\n",
    "    for p in pred:\n",
    "        pred_array[pred,tag]=1\n",
    "\n",
    "ext_array = extr_vec.toarray()\n",
    "c_ext_array = c_extr_vec.toarray()\n",
    "print len(ext_array)\n",
    "for idx,e in enumerate(ext_array):\n",
    "    pred_array[idx] = pred_array[idx]|e\n",
    "for idx,c in enumerate(c_ext_array):\n",
    "    pred_array[idx] = pred_array[idx]|c\n",
    "    \n",
    "print pred_array[6]"
   ]
  },
  {
   "cell_type": "code",
   "execution_count": 148,
   "metadata": {
    "collapsed": false
   },
   "outputs": [
    {
     "name": "stdout",
     "output_type": "stream",
     "text": [
      "0.691286696385\n",
      "0.956765027322\n"
     ]
    }
   ],
   "source": [
    "_score = 0\n",
    "_ascore =0\n",
    "for i,el in enumerate(pred_array):\n",
    "    _ascore += accuracy_score(yc_test[i], el)\n",
    "    _score+= f1_score(yc_test[i],el, average='macro')\n",
    "print(_score/len(pred_array))\n",
    "print(_ascore/len(pred_array))"
   ]
  },
  {
   "cell_type": "markdown",
   "metadata": {},
   "source": [
    "Through this hybrid approach we have manged to score 0.23 of F1 still from the 0.3 objective."
   ]
  },
  {
   "cell_type": "markdown",
   "metadata": {},
   "source": [
    "### Using Bi-grams"
   ]
  },
  {
   "cell_type": "code",
   "execution_count": 42,
   "metadata": {
    "collapsed": false
   },
   "outputs": [],
   "source": [
    "r_tags.head()\n",
    "ncounter = Counter(rseries)\n",
    "ncounter = ncounter.most_common()\n",
    "maxcount = 100\n",
    "nkeys = [c[0] for c in ncounter][:maxcount]\n",
    "ncounts = [c[1] for c in ncounter][:maxcount]"
   ]
  },
  {
   "cell_type": "code",
   "execution_count": 43,
   "metadata": {
    "collapsed": true
   },
   "outputs": [],
   "source": [
    "r_top_tags = []\n",
    "for tags in r_tags:\n",
    "    nr = ''\n",
    "    for tag in word_tokenize(tags):\n",
    "        if tag in nkeys:\n",
    "            nr+=tag+' '\n",
    "    r_top_tags.append(nr)"
   ]
  },
  {
   "cell_type": "code",
   "execution_count": 44,
   "metadata": {
    "collapsed": false
   },
   "outputs": [
    {
     "name": "stdout",
     "output_type": "stream",
     "text": [
      "(100,)\n"
     ]
    }
   ],
   "source": [
    "print np.array(nkeys).shape"
   ]
  },
  {
   "cell_type": "code",
   "execution_count": 45,
   "metadata": {
    "collapsed": false
   },
   "outputs": [
    {
     "name": "stdout",
     "output_type": "stream",
     "text": [
      "vectorizing robotics titles with 2-grams\n"
     ]
    }
   ],
   "source": [
    "r2g_title_vectorizer = CountVectorizer(stop_words='english',ngram_range=(1, 2),\n",
    "                                       token_pattern=r'\\b\\w\\w+-?\\w+\\b')\n",
    "print \"vectorizing robotics titles with 2-grams\"\n",
    "r_X_2g = r2g_title_vectorizer.fit_transform(r_titles)"
   ]
  },
  {
   "cell_type": "code",
   "execution_count": 46,
   "metadata": {
    "collapsed": false
   },
   "outputs": [
    {
     "name": "stdout",
     "output_type": "stream",
     "text": [
      "[[0 0 0 ..., 0 0 0]\n",
      " [0 0 0 ..., 0 0 0]\n",
      " [0 0 0 ..., 0 0 0]\n",
      " ..., \n",
      " [0 0 0 ..., 0 0 0]\n",
      " [0 0 0 ..., 0 0 0]\n",
      " [0 0 0 ..., 0 0 0]]\n"
     ]
    }
   ],
   "source": [
    "print r_X_2g.toarray()"
   ]
  },
  {
   "cell_type": "code",
   "execution_count": 47,
   "metadata": {
    "collapsed": false
   },
   "outputs": [],
   "source": [
    "#r_Y = r_tag_vectorizer.fit_transform(r_tags)\n",
    "r_top_tag_vectorizer = CountVectorizer(stop_words='english',\n",
    "                                       token_pattern=r'\\b\\w\\w+-?\\w+\\b')\n",
    "r_top_tags = r_top_tag_vectorizer.fit_transform(np.array(r_top_tags))\n",
    "\n",
    "r_y_array = r_top_tags.toarray()"
   ]
  },
  {
   "cell_type": "code",
   "execution_count": 48,
   "metadata": {
    "collapsed": false
   },
   "outputs": [],
   "source": [
    "Xc_train, Xc_test, yc_train, yc_test= train_test_split(r_X_2g.toarray(), r_y_array, test_size=0.33, random_state=42)"
   ]
  },
  {
   "cell_type": "code",
   "execution_count": 49,
   "metadata": {
    "collapsed": false
   },
   "outputs": [
    {
     "name": "stdout",
     "output_type": "stream",
     "text": [
      "(98, 1856)\n"
     ]
    }
   ],
   "source": [
    "svm_y = []\n",
    "for t in range(yc_train.shape[1]):\n",
    "    vec = [yc_train[q,t] for q in range(yc_train.shape[0])]\n",
    "    svm_y.append(vec)\n",
    "svm_y = np.array(svm_y)\n",
    "print svm_y.shape"
   ]
  },
  {
   "cell_type": "code",
   "execution_count": 50,
   "metadata": {
    "collapsed": false
   },
   "outputs": [
    {
     "name": "stdout",
     "output_type": "stream",
     "text": [
      "0 1 2 3 4 5 6 7 8 9 10 11 12 13 14 15 16 17 18 19 20 21 22 23 24 25 26 27 28 29 30 31 32 33 34 35 36 37 38 39 40 41 42 43 44 45 46 47 48 49 50 51 52 53 54 55 56 57 58 59 60 61 62 63 64 65 66 67 68 69 70 71 72 73 74 75 76 77 78 79 80 81 82 83 84 85 86 87 88 89 90 91 92 93 94 95 96 97\n"
     ]
    }
   ],
   "source": [
    "from sklearn import svm\n",
    "svm_array = []\n",
    "for t in range(yc_train.shape[1]):\n",
    "    print t,\n",
    "    clf = svm.LinearSVC()\n",
    "    clf.fit(Xc_train, svm_y[t])\n",
    "    svm_array.append(clf)"
   ]
  },
  {
   "cell_type": "code",
   "execution_count": 51,
   "metadata": {
    "collapsed": false
   },
   "outputs": [
    {
     "name": "stdout",
     "output_type": "stream",
     "text": [
      "* * * * * * * * * * * * * * * * * * * * * * * * * * * * * * * * * * * * * * * * * * * * * * * * * * * * * * * * * * * * * * * * * * * * * * * * * * * * * * * * * * * * * * * * * * * * * * * * * *\n"
     ]
    }
   ],
   "source": [
    "out1 = []\n",
    "for cl in svm_array:\n",
    "    print '*',\n",
    "    y_pred = cl.predict(Xc_test)\n",
    "    out1.append(y_pred)"
   ]
  },
  {
   "cell_type": "code",
   "execution_count": 52,
   "metadata": {
    "collapsed": false
   },
   "outputs": [
    {
     "name": "stdout",
     "output_type": "stream",
     "text": [
      "(98, 915)\n",
      "(915, 98)\n"
     ]
    }
   ],
   "source": [
    "out1 = np.array(out1)\n",
    "print out1.shape\n",
    "res = []\n",
    "for q in range(out1.shape[1]):\n",
    "    vec = [out1[t,q] for t in range(out1.shape[0])]\n",
    "    res.append(vec)\n",
    "res = np.array(res)\n",
    "print res.shape"
   ]
  },
  {
   "cell_type": "code",
   "execution_count": 53,
   "metadata": {
    "collapsed": false
   },
   "outputs": [
    {
     "name": "stderr",
     "output_type": "stream",
     "text": [
      "/Library/Frameworks/Python.framework/Versions/2.7/lib/python2.7/site-packages/sklearn/metrics/classification.py:1115: UndefinedMetricWarning: F-score is ill-defined and being set to 0.0 in labels with no true samples.\n",
      "  'recall', 'true', average, warn_for)\n"
     ]
    },
    {
     "name": "stdout",
     "output_type": "stream",
     "text": [
      "0.659831901215\n",
      "0.9818779971\n"
     ]
    }
   ],
   "source": [
    "_score = 0\n",
    "_ascore =0\n",
    "for i,el in enumerate(res):\n",
    "    _ascore += accuracy_score(yc_test[i], el)\n",
    "    _score+= f1_score(yc_test[i],el, average='macro')\n",
    "print(_score/len(res))\n",
    "print(_ascore/len(res))"
   ]
  },
  {
   "cell_type": "markdown",
   "metadata": {},
   "source": [
    "### Trying with Title and Content POS Tags"
   ]
  },
  {
   "cell_type": "code",
   "execution_count": 54,
   "metadata": {
    "collapsed": false
   },
   "outputs": [
    {
     "name": "stdout",
     "output_type": "stream",
     "text": [
      "['approach', 'spin', 'controller', 'soccer', 'robot']\n"
     ]
    }
   ],
   "source": [
    "nn_titles = []\n",
    "for i,title in enumerate(r_titles):\n",
    "    pos = []\n",
    "    pt_titl = nltk.pos_tag(word_tokenize(title))\n",
    "    for pt in pt_titl:\n",
    "        #print(pt)\n",
    "        if pt[1]=='NN':\n",
    "            pos.append(pt[0])\n",
    "            #pos.append(pt[0]+'s')\n",
    "        if pt[1]=='NNS':\n",
    "            #pos.append(pt[0])\n",
    "            pos.append(pt[0][:-1])\n",
    "        if pt[1]=='VBG':# or pt[1]=='VBP' or pt[1]=='VBS':\n",
    "            pos.append(pt[0])\n",
    "    nn_titles.append(\" \".join(pos))\n",
    "nn_titles = [n.split() for n in nn_titles]\n",
    "print nn_titles[0]"
   ]
  },
  {
   "cell_type": "code",
   "execution_count": 61,
   "metadata": {
    "collapsed": false
   },
   "outputs": [
    {
     "name": "stdout",
     "output_type": "stream",
     "text": [
      "['wheel', 'pid', 'motor', 'servos', 'software', 'movement', 'pwm']\n"
     ]
    }
   ],
   "source": [
    "#print dataframes['robotics']['content'][0]\n",
    "contents = dataframes['robotics']['content']\n",
    "nn_content = []\n",
    "for i,content in enumerate(contents):\n",
    "    pos = []\n",
    "    pt_cont = nltk.pos_tag(word_tokenize(content))\n",
    "    for pt in pt_cont:\n",
    "        #print(pt)\n",
    "        tmp = pt[0]\n",
    "        if pt[1]=='NNS':\n",
    "            tmp =  pt[0][:-1]\n",
    "        if tmp in nkeys:\n",
    "            pos.append(tmp)\n",
    "    \n",
    "    pos = pd.Series(pos).unique()\n",
    "    nn_content.append(\" \".join(pos))\n",
    "nn_contents = [n.split() for n in nn_content]\n",
    "print nn_contents[0]"
   ]
  },
  {
   "cell_type": "code",
   "execution_count": 62,
   "metadata": {
    "collapsed": false
   },
   "outputs": [
    {
     "name": "stdout",
     "output_type": "stream",
     "text": [
      "right approach write spin controller soccer robot\n",
      "p imagine programming 3 wheel soccer robot type controller would use spinning p pid p p goal controller make robot stand defined angle 0 degree turn back rotated hand robot p p use stepper motors robot servos need implement software p p written sample p type controller already movement fairly good would like make better possible code follows p pre code void spinspeed int devidedvalue int addedvalue int correction degree lt correction amp amp degree gt correction motorspeed 0 else degree gt 0 motorspeed degree devidedvalue addedvalue else motorspeed degree devidedvalue addedvalue code pre p code correction code range robot movement code degree code number 127 128 returned compass code motorspeed code number 0 255 applied pwm p\n",
      "['approach', 'spin', 'controller', 'soccer', 'robot']\n",
      "['wheel', 'pid', 'motor', 'servos', 'software', 'movement', 'pwm']\n"
     ]
    }
   ],
   "source": [
    "print dataframes['robotics']['title'][0]\n",
    "print dataframes['robotics']['content'][0]\n",
    "print nn_titles[0]\n",
    "print nn_contents[0]"
   ]
  },
  {
   "cell_type": "code",
   "execution_count": 63,
   "metadata": {
    "collapsed": false
   },
   "outputs": [],
   "source": [
    "nn_contents = [\" \".join(c) for c in nn_contents]"
   ]
  },
  {
   "cell_type": "code",
   "execution_count": 64,
   "metadata": {
    "collapsed": true
   },
   "outputs": [],
   "source": [
    "nn_titles = [\" \".join(c) for c in nn_titles]"
   ]
  },
  {
   "cell_type": "code",
   "execution_count": 65,
   "metadata": {
    "collapsed": false
   },
   "outputs": [
    {
     "name": "stdout",
     "output_type": "stream",
     "text": [
      "approach spin controller soccer robot\n",
      "wheel pid motor servos software movement pwm\n",
      "approach spin controller soccer robotwheel pid motor servos software movement pwm\n"
     ]
    }
   ],
   "source": [
    "print nn_titles[0]\n",
    "print nn_contents[0]\n",
    "nn_tandc = []\n",
    "for idx,t in enumerate(nn_titles):\n",
    "    tmp = t+nn_contents[idx]\n",
    "    nn_tandc.append(tmp)\n",
    "print nn_tandc[0]"
   ]
  },
  {
   "cell_type": "code",
   "execution_count": 66,
   "metadata": {
    "collapsed": false
   },
   "outputs": [],
   "source": [
    "r_content_vectorizer = CountVectorizer(stop_words='english',\n",
    "                                       token_pattern=r'\\b\\w\\w+-?\\w+\\b')\n",
    "r_X = r_content_vectorizer.fit_transform(nn_tandc)"
   ]
  },
  {
   "cell_type": "code",
   "execution_count": 67,
   "metadata": {
    "collapsed": true
   },
   "outputs": [],
   "source": [
    "Xc_train, Xc_test, yc_train, yc_test= train_test_split(r_X.toarray(), r_y_array, test_size=0.33, random_state=42)"
   ]
  },
  {
   "cell_type": "code",
   "execution_count": 68,
   "metadata": {
    "collapsed": false
   },
   "outputs": [
    {
     "name": "stdout",
     "output_type": "stream",
     "text": [
      "(98, 1856)\n"
     ]
    }
   ],
   "source": [
    "svm_y = []\n",
    "for t in range(yc_train.shape[1]):\n",
    "    vec = [yc_train[q,t] for q in range(yc_train.shape[0])]\n",
    "    svm_y.append(vec)\n",
    "svm_y = np.array(svm_y)\n",
    "print svm_y.shape"
   ]
  },
  {
   "cell_type": "code",
   "execution_count": 69,
   "metadata": {
    "collapsed": false
   },
   "outputs": [
    {
     "name": "stdout",
     "output_type": "stream",
     "text": [
      "0 1 2 3 4 5 6 7 8 9 10 11 12 13 14 15 16 17 18 19 20 21 22 23 24 25 26 27 28 29 30 31 32 33 34 35 36 37 38 39 40 41 42 43 44 45 46 47 48 49 50 51 52 53 54 55 56 57 58 59 60 61 62 63 64 65 66 67 68 69 70 71 72 73 74 75 76 77 78 79 80 81 82 83 84 85 86 87 88 89 90 91 92 93 94 95 96 97\n"
     ]
    }
   ],
   "source": [
    "from sklearn import svm\n",
    "svm_array = []\n",
    "for t in range(yc_train.shape[1]):\n",
    "    print t,\n",
    "    clf = svm.LinearSVC()\n",
    "    clf.fit(Xc_train, svm_y[t])\n",
    "    svm_array.append(clf)"
   ]
  },
  {
   "cell_type": "code",
   "execution_count": 70,
   "metadata": {
    "collapsed": false
   },
   "outputs": [
    {
     "name": "stdout",
     "output_type": "stream",
     "text": [
      "* * * * * * * * * * * * * * * * * * * * * * * * * * * * * * * * * * * * * * * * * * * * * * * * * * * * * * * * * * * * * * * * * * * * * * * * * * * * * * * * * * * * * * * * * * * * * * * * * *\n"
     ]
    }
   ],
   "source": [
    "out1 = []\n",
    "for cl in svm_array:\n",
    "    print '*',\n",
    "    y_pred = cl.predict(Xc_test)\n",
    "    out1.append(y_pred)"
   ]
  },
  {
   "cell_type": "code",
   "execution_count": 71,
   "metadata": {
    "collapsed": false
   },
   "outputs": [
    {
     "name": "stdout",
     "output_type": "stream",
     "text": [
      "(98, 915)\n",
      "(915, 98)\n"
     ]
    }
   ],
   "source": [
    "out1 = np.array(out1)\n",
    "print out1.shape\n",
    "res = []\n",
    "for q in range(out1.shape[1]):\n",
    "    vec = [out1[t,q] for t in range(out1.shape[0])]\n",
    "    res.append(vec)\n",
    "res = np.array(res)\n",
    "print res.shape"
   ]
  },
  {
   "cell_type": "code",
   "execution_count": 72,
   "metadata": {
    "collapsed": false
   },
   "outputs": [
    {
     "name": "stdout",
     "output_type": "stream",
     "text": [
      "0.61200735316\n",
      "0.978275900524\n"
     ]
    }
   ],
   "source": [
    "_score = 0\n",
    "_ascore =0\n",
    "for i,el in enumerate(res):\n",
    "    _ascore += accuracy_score(yc_test[i], el)\n",
    "    _score+= f1_score(yc_test[i],el, average='macro')\n",
    "print(_score/len(res))\n",
    "print(_ascore/len(res))"
   ]
  },
  {
   "cell_type": "markdown",
   "metadata": {},
   "source": [
    "### Trying all Tags with SVM"
   ]
  },
  {
   "cell_type": "code",
   "execution_count": 26,
   "metadata": {
    "collapsed": false
   },
   "outputs": [
    {
     "name": "stdout",
     "output_type": "stream",
     "text": [
      "vectorizing robotics titles with 2-grams\n"
     ]
    }
   ],
   "source": [
    "r2g_title_vectorizer = CountVectorizer(stop_words='english',ngram_range=(1, 2),\n",
    "                                       token_pattern=r'\\b\\w\\w+-?\\w+\\b')\n",
    "print \"vectorizing robotics titles with 2-grams\"\n",
    "r_X_2g = r2g_title_vectorizer.fit_transform(r_titles)\n",
    "r_X_2t_array = r_X_2g.toarray()"
   ]
  },
  {
   "cell_type": "code",
   "execution_count": 27,
   "metadata": {
    "collapsed": false
   },
   "outputs": [],
   "source": [
    "r_Y = r_tag_vectorizer.fit_transform(r_tags)\n",
    "r_Y_array = r_Y.toarray()"
   ]
  },
  {
   "cell_type": "code",
   "execution_count": 28,
   "metadata": {
    "collapsed": true
   },
   "outputs": [],
   "source": [
    "Xc_train, Xc_test, yc_train, yc_test= train_test_split(r_X_2g.toarray(), r_Y_array, test_size=0.33, random_state=42)"
   ]
  },
  {
   "cell_type": "code",
   "execution_count": 29,
   "metadata": {
    "collapsed": false
   },
   "outputs": [
    {
     "name": "stdout",
     "output_type": "stream",
     "text": [
      "(230, 1856)\n"
     ]
    }
   ],
   "source": [
    "svm_y = []\n",
    "for t in range(yc_train.shape[1]):\n",
    "    vec = [yc_train[q,t] for q in range(yc_train.shape[0])]\n",
    "    svm_y.append(vec)\n",
    "svm_y = np.array(svm_y)\n",
    "print svm_y.shape"
   ]
  },
  {
   "cell_type": "code",
   "execution_count": 30,
   "metadata": {
    "collapsed": false
   },
   "outputs": [
    {
     "name": "stdout",
     "output_type": "stream",
     "text": [
      "0 1 2 3 4 5 6 7 8 9 10 11 12 13 14 15 16 17 18 19 20 21 22 23 24 25 26 27 28 29 30 31 32 33 34 35 36 37 38 39 40 41 42 43 44 45 46 47 48 49 50 51 52 53 54 55 56 57 58 59 60 61 62 63 64 65 66 67 68 69 70 71 72 73 74 75 76 77 78 79 80 81 82 83 84 85 86 87 88 89 90 91 92 93 94 95 96 97 98 99 100 101 102 103 104 105 106 107 108 109 110 111 112 113 114 115 116 117 118 119 120 121 122 123 124 125 126 127 128 129 130 131 132 133 134 135 136 137 138 139 140 141 142 143 144 145 146 147 148 149 150 151 152 153 154 155 156 157 158 159 160 161 162 163 164 165 166 167 168 169 170 171 172 173 174 175 176 177 178 179 180 181 182 183 184 185 186 187 188 189 190 191 192 193 194 195 196 197 198 199 200 201 202 203 204 205 206 207 208 209 210 211 212 213 214 215 216 217 218 219 220 221 222 223 224 225 226 227 228 229\n"
     ]
    }
   ],
   "source": [
    "from sklearn import svm\n",
    "svm_array = []\n",
    "for t in range(yc_train.shape[1]):\n",
    "    print t,\n",
    "    clf = svm.SVC()\n",
    "    try:\n",
    "        clf.fit(Xc_train, svm_y[t])\n",
    "        svm_array.append(clf)\n",
    "    except:\n",
    "        svm_array.append(None)"
   ]
  },
  {
   "cell_type": "code",
   "execution_count": 32,
   "metadata": {
    "collapsed": false
   },
   "outputs": [
    {
     "name": "stdout",
     "output_type": "stream",
     "text": [
      "* * * * * * * * * * * * * * * * * * * * * * * * * * * * * * * * * * * * * * * * * * * * * * * * * * * * * * * * * * * * * * * * * * * * * * * * * * * * * * * * * * * * * * * * * * * * * * * * * * * * * * * * * * * * * * * * * * * * * * * * * * * * * * * * * * * * * * * * * * * * * * * * * * * * * * * * * * * * * * * * * * * * * * * * * * * * * * * * * * * * * * * * * * * * * * * * * * * * * * * * * * * * * * * * * * * * * * * * * * * * * * * * * * * * * *\n"
     ]
    }
   ],
   "source": [
    "out1 = []\n",
    "for cl in svm_array:\n",
    "    print '*',\n",
    "    if cl is not None:\n",
    "        y_pred = cl.predict(Xc_test)\n",
    "    else:\n",
    "        y_pred = [0]*Xc_test.shape[0]\n",
    "    out1.append(y_pred)\n",
    "    "
   ]
  },
  {
   "cell_type": "code",
   "execution_count": 37,
   "metadata": {
    "collapsed": false
   },
   "outputs": [
    {
     "name": "stdout",
     "output_type": "stream",
     "text": [
      "(230, 915)\n",
      "(915, 230)\n"
     ]
    }
   ],
   "source": [
    "out1 = np.array(out1)\n",
    "print out1.shape\n",
    "res = []\n",
    "for q in range(out1.shape[1]):\n",
    "    vec = [out1[t,q] for t in range(out1.shape[0])]\n",
    "    res.append(vec)\n",
    "res = np.array(res)\n",
    "print res.shape"
   ]
  },
  {
   "cell_type": "code",
   "execution_count": 38,
   "metadata": {
    "collapsed": false
   },
   "outputs": [
    {
     "name": "stdout",
     "output_type": "stream",
     "text": [
      "0.497963902119\n",
      "0.989736279401\n"
     ]
    }
   ],
   "source": [
    "_score = 0\n",
    "_ascore =0\n",
    "for i,el in enumerate(res):\n",
    "    _ascore += accuracy_score(yc_test[i], el)\n",
    "    _score+= f1_score(yc_test[i],el, average='macro')\n",
    "print(_score/len(res))\n",
    "print(_ascore/len(res))"
   ]
  },
  {
   "cell_type": "code",
   "execution_count": 25,
   "metadata": {
    "collapsed": false
   },
   "outputs": [
    {
     "data": {
      "image/png": "[encoded data removed]",
      "text/plain": [
       "<matplotlib.figure.Figure at 0x10d614850>"
      ]
     },
     "metadata": {},
     "output_type": "display_data"
    }
   ],
   "source": [
    "r_tags_histo = [len(ttt.split()) for ttt in r_tags]\n",
    "plt.hist(r_tags_histo, bins='auto')\n",
    "plt.show()"
   ]
  },
  {
   "cell_type": "code",
   "execution_count": 33,
   "metadata": {
    "collapsed": false
   },
   "outputs": [
    {
     "name": "stdout",
     "output_type": "stream",
     "text": [
      "(230, 915)\n",
      "(915, 230)\n"
     ]
    }
   ],
   "source": [
    "out1 = np.array(out1)\n",
    "print out1.shape\n",
    "res = []\n",
    "for q in range(out1.shape[1]):\n",
    "    vec = [out1[t,q] for t in range(out1.shape[0])]\n",
    "    for idx,v in enumerate(vec):\n",
    "        maxtags = 2\n",
    "        if v==1:\n",
    "            maxtags = maxtags-1\n",
    "            if maxtags ==0:\n",
    "                v=0\n",
    "        vec[idx]=v\n",
    "    res.append(vec)\n",
    "res = np.array(res)\n",
    "print res.shape\n"
   ]
  },
  {
   "cell_type": "code",
   "execution_count": 36,
   "metadata": {
    "collapsed": false
   },
   "outputs": [
    {
     "name": "stdout",
     "output_type": "stream",
     "text": [
      "0.497963902119\n",
      "0.989736279401\n"
     ]
    }
   ],
   "source": [
    "_score = 0\n",
    "_ascore =0\n",
    "for i,el in enumerate(res):\n",
    "    _ascore += accuracy_score(yc_test[i], el)\n",
    "    _score+= f1_score(yc_test[i],el, average='macro')\n",
    "print(_score/len(res))\n",
    "print(_ascore/len(res))"
   ]
  },
  {
   "cell_type": "markdown",
   "metadata": {},
   "source": [
    "#### "
   ]
  }
 ],
 "metadata": {
  "kernelspec": {
   "display_name": "Python 2",
   "language": "python",
   "name": "python2"
  },
  "language_info": {
   "codemirror_mode": {
    "name": "ipython",
    "version": 2
   },
   "file_extension": ".py",
   "mimetype": "text/x-python",
   "name": "python",
   "nbconvert_exporter": "python",
   "pygments_lexer": "ipython2",
   "version": "2.7.8"
  }
 },
 "nbformat": 4,
 "nbformat_minor": 1
}
